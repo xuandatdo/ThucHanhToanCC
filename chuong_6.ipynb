{
  "nbformat": 4,
  "nbformat_minor": 0,
  "metadata": {
    "colab": {
      "name": "chuong 6",
      "provenance": [],
      "include_colab_link": true
    },
    "kernelspec": {
      "name": "python3",
      "display_name": "Python 3"
    },
    "language_info": {
      "name": "python"
    }
  },
  "cells": [
    {
      "cell_type": "markdown",
      "metadata": {
        "id": "view-in-github",
        "colab_type": "text"
      },
      "source": [
        "<a href=\"https://colab.research.google.com/github/xuandatdo/ThucHanhToanCC/blob/main/chuong_6.ipynb\" target=\"_parent\"><img src=\"https://colab.research.google.com/assets/colab-badge.svg\" alt=\"Open In Colab\"/></a>"
      ]
    },
    {
      "cell_type": "markdown",
      "source": [
        "# **TT1**"
      ],
      "metadata": {
        "id": "hbmFszb2k8nZ"
      }
    },
    {
      "cell_type": "code",
      "execution_count": null,
      "metadata": {
        "colab": {
          "base_uri": "https://localhost:8080/"
        },
        "id": "x7xDRSuWk7WJ",
        "outputId": "a8917123-e3e5-4e42-b8fb-9de4354238f6"
      },
      "outputs": [
        {
          "output_type": "execute_result",
          "data": {
            "text/plain": [
              "6"
            ]
          },
          "metadata": {},
          "execution_count": 1
        }
      ],
      "source": [
        "import math\n",
        "def giaithua(n):\n",
        "  if(n==0):\n",
        "    return 1\n",
        "  else:\n",
        "    return n*giaithua(n-1)\n",
        "giaithua(3)"
      ]
    },
    {
      "cell_type": "code",
      "source": [
        "giaithua(4)"
      ],
      "metadata": {
        "colab": {
          "base_uri": "https://localhost:8080/"
        },
        "id": "dN56LJNWl3wb",
        "outputId": "21667af6-8e59-4530-c48e-53689e2e0a1e"
      },
      "execution_count": null,
      "outputs": [
        {
          "output_type": "execute_result",
          "data": {
            "text/plain": [
              "24"
            ]
          },
          "metadata": {},
          "execution_count": 2
        }
      ]
    },
    {
      "cell_type": "markdown",
      "source": [
        "# **TT2**"
      ],
      "metadata": {
        "id": "jqnjIc9Nl7c2"
      }
    },
    {
      "cell_type": "code",
      "source": [
        "def fibo(n):\n",
        "  if n == 0:\n",
        "    return 0\n",
        "  if n == 1:\n",
        "    return 1\n",
        "  return fibo(n-1) + fibo(n-2) "
      ],
      "metadata": {
        "id": "bsg3QH9vl8fG"
      },
      "execution_count": null,
      "outputs": []
    },
    {
      "cell_type": "code",
      "source": [
        "fibo(4)"
      ],
      "metadata": {
        "colab": {
          "base_uri": "https://localhost:8080/"
        },
        "id": "9BuGR1vumRHf",
        "outputId": "2fd5e9bd-8e3a-4d05-a03d-bda5beec41e3"
      },
      "execution_count": null,
      "outputs": [
        {
          "output_type": "execute_result",
          "data": {
            "text/plain": [
              "3"
            ]
          },
          "metadata": {},
          "execution_count": 4
        }
      ]
    },
    {
      "cell_type": "code",
      "source": [
        "fibo(5)"
      ],
      "metadata": {
        "colab": {
          "base_uri": "https://localhost:8080/"
        },
        "id": "clnWQP9wmUVQ",
        "outputId": "aca517fe-ae70-4520-e7ee-15713de633f7"
      },
      "execution_count": null,
      "outputs": [
        {
          "output_type": "execute_result",
          "data": {
            "text/plain": [
              "5"
            ]
          },
          "metadata": {},
          "execution_count": 5
        }
      ]
    },
    {
      "cell_type": "code",
      "source": [
        "fibo(6)"
      ],
      "metadata": {
        "colab": {
          "base_uri": "https://localhost:8080/"
        },
        "id": "kC7eaauBmWpQ",
        "outputId": "e18d87f5-3c92-4f48-823e-f3a7232026cf"
      },
      "execution_count": null,
      "outputs": [
        {
          "output_type": "execute_result",
          "data": {
            "text/plain": [
              "8"
            ]
          },
          "metadata": {},
          "execution_count": 6
        }
      ]
    },
    {
      "cell_type": "markdown",
      "source": [
        "# **TT3**"
      ],
      "metadata": {
        "id": "qv6IWUR6mZf5"
      }
    },
    {
      "cell_type": "code",
      "source": [
        "def an_exp_an(n):\n",
        "  if n == 1: \n",
        "    return 1.0/2 \n",
        "  else:\n",
        "    return an_exp_an(n-1)**an_exp_an(n-1) "
      ],
      "metadata": {
        "id": "tkzWUctDmcep"
      },
      "execution_count": null,
      "outputs": []
    },
    {
      "cell_type": "code",
      "source": [
        "an_exp_an(1) "
      ],
      "metadata": {
        "colab": {
          "base_uri": "https://localhost:8080/"
        },
        "id": "OEXRQJzOmn2x",
        "outputId": "2825e16f-699c-4ba8-fa08-e2d70697d713"
      },
      "execution_count": null,
      "outputs": [
        {
          "output_type": "execute_result",
          "data": {
            "text/plain": [
              "0.5"
            ]
          },
          "metadata": {},
          "execution_count": 8
        }
      ]
    },
    {
      "cell_type": "code",
      "source": [
        "an_exp_an(2) "
      ],
      "metadata": {
        "colab": {
          "base_uri": "https://localhost:8080/"
        },
        "id": "r6Wv7VhumpxQ",
        "outputId": "ad8fb697-8133-4240-d1dd-6594fcda8b1c"
      },
      "execution_count": null,
      "outputs": [
        {
          "output_type": "execute_result",
          "data": {
            "text/plain": [
              "0.7071067811865476"
            ]
          },
          "metadata": {},
          "execution_count": 9
        }
      ]
    },
    {
      "cell_type": "code",
      "source": [
        "an_exp_an(3) "
      ],
      "metadata": {
        "colab": {
          "base_uri": "https://localhost:8080/"
        },
        "id": "xSMxBVmmmryD",
        "outputId": "5fb27f98-306a-40be-813c-e1b0473e045e"
      },
      "execution_count": null,
      "outputs": [
        {
          "output_type": "execute_result",
          "data": {
            "text/plain": [
              "0.7826540273556803"
            ]
          },
          "metadata": {},
          "execution_count": 10
        }
      ]
    },
    {
      "cell_type": "code",
      "source": [
        "an_exp_an(4) "
      ],
      "metadata": {
        "colab": {
          "base_uri": "https://localhost:8080/"
        },
        "id": "07cUPmSVmtxG",
        "outputId": "25f207a7-a1ef-4326-9271-3bc73608a6cf"
      },
      "execution_count": null,
      "outputs": [
        {
          "output_type": "execute_result",
          "data": {
            "text/plain": [
              "0.8254713306050621"
            ]
          },
          "metadata": {},
          "execution_count": 11
        }
      ]
    },
    {
      "cell_type": "code",
      "source": [
        "an_exp_an(5) "
      ],
      "metadata": {
        "colab": {
          "base_uri": "https://localhost:8080/"
        },
        "id": "rC45l32GmvuH",
        "outputId": "7afaf37e-1f64-40d1-82e8-66586ed67405"
      },
      "execution_count": null,
      "outputs": [
        {
          "output_type": "execute_result",
          "data": {
            "text/plain": [
              "0.8535714578150946"
            ]
          },
          "metadata": {},
          "execution_count": 12
        }
      ]
    },
    {
      "cell_type": "code",
      "source": [
        "an_exp_an(10) "
      ],
      "metadata": {
        "colab": {
          "base_uri": "https://localhost:8080/"
        },
        "id": "KaetI3sHmxTX",
        "outputId": "6f643a49-4d41-4686-dfa2-41eb6c0351af"
      },
      "execution_count": null,
      "outputs": [
        {
          "output_type": "execute_result",
          "data": {
            "text/plain": [
              "0.9176411981636667"
            ]
          },
          "metadata": {},
          "execution_count": 13
        }
      ]
    },
    {
      "cell_type": "markdown",
      "source": [
        "# **TT4**"
      ],
      "metadata": {
        "id": "EakD9BiUm9-h"
      }
    },
    {
      "cell_type": "code",
      "source": [
        "def bai4(n): \n",
        "  if n==1: \n",
        "    return 4 \n",
        "  else: \n",
        "    return 5.0/(6-bai4(n-1)) "
      ],
      "metadata": {
        "id": "s9Fp2Yxsm_G3"
      },
      "execution_count": null,
      "outputs": []
    },
    {
      "cell_type": "code",
      "source": [
        "bai4(5) "
      ],
      "metadata": {
        "colab": {
          "base_uri": "https://localhost:8080/"
        },
        "id": "a_QLO7Y_nMS3",
        "outputId": "6f671818-9e22-4e81-a33f-5890ad4fbd35"
      },
      "execution_count": null,
      "outputs": [
        {
          "output_type": "execute_result",
          "data": {
            "text/plain": [
              "1.019108280254777"
            ]
          },
          "metadata": {},
          "execution_count": 15
        }
      ]
    },
    {
      "cell_type": "code",
      "source": [
        "bai4(6) "
      ],
      "metadata": {
        "colab": {
          "base_uri": "https://localhost:8080/"
        },
        "id": "G03je9o7nOc4",
        "outputId": "718ea59a-9d5f-46a3-aba3-117650a6745a"
      },
      "execution_count": null,
      "outputs": [
        {
          "output_type": "execute_result",
          "data": {
            "text/plain": [
              "1.0038363171355498"
            ]
          },
          "metadata": {},
          "execution_count": 16
        }
      ]
    },
    {
      "cell_type": "code",
      "source": [
        "bai4(7) "
      ],
      "metadata": {
        "colab": {
          "base_uri": "https://localhost:8080/"
        },
        "id": "9C109Kh4nQhY",
        "outputId": "fab9ba46-32ab-49a3-9c53-71641ffb17ba"
      },
      "execution_count": null,
      "outputs": [
        {
          "output_type": "execute_result",
          "data": {
            "text/plain": [
              "1.000767852572306"
            ]
          },
          "metadata": {},
          "execution_count": 17
        }
      ]
    },
    {
      "cell_type": "code",
      "source": [
        "bai4(10) "
      ],
      "metadata": {
        "colab": {
          "base_uri": "https://localhost:8080/"
        },
        "id": "hifF88lvnS1L",
        "outputId": "f871c12f-722b-4106-b569-90d5b880ff0d"
      },
      "execution_count": null,
      "outputs": [
        {
          "output_type": "execute_result",
          "data": {
            "text/plain": [
              "1.0000061439905628"
            ]
          },
          "metadata": {},
          "execution_count": 18
        }
      ]
    },
    {
      "cell_type": "code",
      "source": [
        "bai4(100) "
      ],
      "metadata": {
        "colab": {
          "base_uri": "https://localhost:8080/"
        },
        "id": "yePdyZ6CnUf-",
        "outputId": "7548e551-f7db-42d3-b497-32c93bec7bef"
      },
      "execution_count": null,
      "outputs": [
        {
          "output_type": "execute_result",
          "data": {
            "text/plain": [
              "1.0"
            ]
          },
          "metadata": {},
          "execution_count": 19
        }
      ]
    },
    {
      "cell_type": "markdown",
      "source": [
        "# **TT5**"
      ],
      "metadata": {
        "id": "n-pt1sxqnXiB"
      }
    },
    {
      "cell_type": "code",
      "source": [
        "def tisoFibo(n): \n",
        "  if n==1: \n",
        "    return 1 \n",
        "  else: \n",
        "    return 1.0 + 1.0/tisoFibo(n-1) "
      ],
      "metadata": {
        "id": "ARExUtmYnYhd"
      },
      "execution_count": null,
      "outputs": []
    },
    {
      "cell_type": "code",
      "source": [
        "for i in range(1, 11): \n",
        "  print (i, tisoFibo(i)) "
      ],
      "metadata": {
        "colab": {
          "base_uri": "https://localhost:8080/"
        },
        "id": "IGW6yjIhnlHA",
        "outputId": "7dd3254a-5697-44ed-e1d5-f3812d807cdd"
      },
      "execution_count": null,
      "outputs": [
        {
          "output_type": "stream",
          "name": "stdout",
          "text": [
            "1 1\n",
            "2 2.0\n",
            "3 1.5\n",
            "4 1.6666666666666665\n",
            "5 1.6\n",
            "6 1.625\n",
            "7 1.6153846153846154\n",
            "8 1.619047619047619\n",
            "9 1.6176470588235294\n",
            "10 1.6181818181818182\n"
          ]
        }
      ]
    },
    {
      "cell_type": "code",
      "source": [
        "from sympy import Symbol, plot, sqrt\n",
        "x = Symbol('x')\n",
        "f = (2*x+1)/(x+1)\n",
        "plot(f, (x,(1-sqrt(5))/2, 10))"
      ],
      "metadata": {
        "id": "SG09U0lHLdbG",
        "outputId": "7ecb04fd-2ddd-4578-a3fc-82c0ba92a171",
        "colab": {
          "base_uri": "https://localhost:8080/",
          "height": 314
        }
      },
      "execution_count": 1,
      "outputs": [
        {
          "output_type": "display_data",
          "data": {
            "text/plain": [
              "<Figure size 432x288 with 1 Axes>"
            ],
            "image/png": "[encoded data removed]"
          },
          "metadata": {
            "needs_background": "light"
          }
        },
        {
          "output_type": "execute_result",
          "data": {
            "text/plain": [
              "<sympy.plotting.plot.Plot at 0x7fb50f2d5310>"
            ]
          },
          "metadata": {},
          "execution_count": 1
        }
      ]
    },
    {
      "cell_type": "code",
      "source": [
        "from sympy import Derivative, Symbol, sympify \n",
        "def grad_ascent(x0, ham_f1x, x): \n",
        "  epsilon = 1e-6 \n",
        "  step_size = 1e-4 \n",
        "  x_old = x0 \n",
        "  x_new = x_old + step_size*ham_f1x.subs({x:x_old}).evalf() \n",
        "  while abs(x_old - x_new) > epsilon: \n",
        "     x_old = x_new\n",
        "     x_new = x_old + step_size*ham_f1x.subs({x:x_old}).evalf() \n",
        "  return x_new "
      ],
      "metadata": {
        "id": "04-QRyXhn44V"
      },
      "execution_count": null,
      "outputs": []
    },
    {
      "cell_type": "code",
      "source": [
        "if __name__ == '__main__': \n",
        "   f = input('Nhap ham 1 bien (f): ')\n",
        "   var = input('Nhap ten bien tuong ung (x): ')\n",
        "   var0 = float(input('Nhap gia tri khoi dau cho bien x: ')) "
      ],
      "metadata": {
        "colab": {
          "base_uri": "https://localhost:8080/"
        },
        "id": "s5QbJg9voadf",
        "outputId": "cd84b740-a952-4ac3-a04f-e0caf8811f65"
      },
      "execution_count": null,
      "outputs": [
        {
          "name": "stdout",
          "output_type": "stream",
          "text": [
            "Nhap ham 1 bien (f): 25*25*sin(2*theta)/9.8\n",
            "Nhap ten bien tuong ung (x): theta\n",
            "Nhap gia tri khoi dau cho bien x: 0.001\n"
          ]
        }
      ]
    },
    {
      "cell_type": "code",
      "source": [
        "try:\n",
        "  f = sympify(f)  # kiem tra ham \n",
        "except SympifyError:\n",
        "  print('Ham nhap khong hop le!') \n",
        "else:\n",
        "   var = Symbol(var)\n",
        "   d = Derivative(f, var).doit() \n",
        "   var_max = grad_ascent(var0, d, var) \n",
        "   print('{0}: {1}'.format(var.name, var_max)) \n",
        "   print('Maximum value: {0}'.format(f.subs({var:var_max}))) "
      ],
      "metadata": {
        "colab": {
          "base_uri": "https://localhost:8080/"
        },
        "id": "YKo8KD6hosW4",
        "outputId": "2bbd4ff3-6508-4391-d2f3-53de65f6cee1"
      },
      "execution_count": null,
      "outputs": [
        {
          "output_type": "stream",
          "name": "stdout",
          "text": [
            "theta: 0.785360029379083\n",
            "Maximum value: 63.7755100185965\n"
          ]
        }
      ]
    },
    {
      "cell_type": "code",
      "source": [
        "from sympy import Derivative, Symbol, sympify \n",
        "def grad_ascent(x0, ham_f1x, x): \n",
        "  from sympy import solve, E \n",
        "  if not solve(ham_f1x): \n",
        "     print('Khong the tiep tuc, phuong trinh {0}=0 vo nghiem'.format(ham_f1x))\n",
        "     return "
      ],
      "metadata": {
        "id": "omchvxzjqznF"
      },
      "execution_count": null,
      "outputs": []
    },
    {
      "cell_type": "code",
      "source": [
        "from sympy import Derivative, Symbol, sympify \n",
        "def grad_ascent(x0, ham_f1x, x): \n",
        "  epsilon = 1e-6 \n",
        "  step_size = 1e-4 \n",
        "  x_old = x0 \n",
        "  x_new = x_old + step_size*ham_f1x.subs({x:x_old}).evalf()\n",
        "  while abs(x_old - x_new) > epsilon: \n",
        "    x_old = x_new \n",
        "    x_new = x_old + step_size*ham_f1x.subs({x:x_old}).evalf() \n",
        "  return x_new "
      ],
      "metadata": {
        "id": "ZsK8RtLprUMz"
      },
      "execution_count": null,
      "outputs": []
    },
    {
      "cell_type": "code",
      "source": [
        "if __name__ == '__main__': \n",
        "   f= input('Nhap ham 1 bien (f): ') \n",
        "   var = input('Nhap ten bien tuong ung (x): ') \n",
        "   var0 = float(input('Nhap gia tri khoi dau cho bien x: ')) "
      ],
      "metadata": {
        "colab": {
          "base_uri": "https://localhost:8080/"
        },
        "id": "_usWLLnBr9U6",
        "outputId": "94fa13d7-37fd-4535-d27a-950d61482fc0"
      },
      "execution_count": null,
      "outputs": [
        {
          "name": "stdout",
          "output_type": "stream",
          "text": [
            "Nhap ham 1 bien (f): log(x)\n",
            "Nhap ten bien tuong ung (x): x\n",
            "Nhap gia tri khoi dau cho bien x: 0.1\n"
          ]
        }
      ]
    },
    {
      "cell_type": "code",
      "source": [
        "try: \n",
        "  f = sympify(f)  # kiem tra ham \n",
        "except SympifyError: \n",
        "  print('Ham nhap khong hop le!') \n",
        "else: \n",
        "  var = Symbol(var) \n",
        "  d = Derivative(f, var).doit() \n",
        "  var_max = grad_ascent(var0, d, var) # thêm lệnh if (nằm trong khối lệnh else) để kiểm tra giá trị var_max trước khi kết luận: \n",
        "  if var_max:\n",
        "    print('{0}: {1}'.format(var.name, var_max)) \n",
        "    print('Maximum value: {0}'.format(f.subs({var:var_max}))) "
      ],
      "metadata": {
        "colab": {
          "base_uri": "https://localhost:8080/",
          "height": 414
        },
        "id": "WcBNbLAXsO1y",
        "outputId": "3b4bc136-2e77-471b-9b72-b08b972337a4"
      },
      "execution_count": null,
      "outputs": [
        {
          "output_type": "error",
          "ename": "KeyboardInterrupt",
          "evalue": "ignored",
          "traceback": [
            "\u001b[0;31m---------------------------------------------------------------------------\u001b[0m",
            "\u001b[0;31mKeyError\u001b[0m                                  Traceback (most recent call last)",
            "\u001b[0;32m/usr/local/lib/python3.7/dist-packages/sympy/core/assumptions.py\u001b[0m in \u001b[0;36mgetit\u001b[0;34m(self)\u001b[0m\n\u001b[1;32m    453\u001b[0m         \u001b[0;32mtry\u001b[0m\u001b[0;34m:\u001b[0m\u001b[0;34m\u001b[0m\u001b[0;34m\u001b[0m\u001b[0m\n\u001b[0;32m--> 454\u001b[0;31m             \u001b[0;32mreturn\u001b[0m \u001b[0mself\u001b[0m\u001b[0;34m.\u001b[0m\u001b[0m_assumptions\u001b[0m\u001b[0;34m[\u001b[0m\u001b[0mfact\u001b[0m\u001b[0;34m]\u001b[0m\u001b[0;34m\u001b[0m\u001b[0;34m\u001b[0m\u001b[0m\n\u001b[0m\u001b[1;32m    455\u001b[0m         \u001b[0;32mexcept\u001b[0m \u001b[0mKeyError\u001b[0m\u001b[0;34m:\u001b[0m\u001b[0;34m\u001b[0m\u001b[0;34m\u001b[0m\u001b[0m\n",
            "\u001b[0;31mKeyError\u001b[0m: 'extended_negative'",
            "\nDuring handling of the above exception, another exception occurred:\n",
            "\u001b[0;31mKeyboardInterrupt\u001b[0m                         Traceback (most recent call last)",
            "\u001b[0;32m<ipython-input-49-7801d1ccab52>\u001b[0m in \u001b[0;36m<module>\u001b[0;34m()\u001b[0m\n\u001b[1;32m      6\u001b[0m   \u001b[0mvar\u001b[0m \u001b[0;34m=\u001b[0m \u001b[0mSymbol\u001b[0m\u001b[0;34m(\u001b[0m\u001b[0mvar\u001b[0m\u001b[0;34m)\u001b[0m\u001b[0;34m\u001b[0m\u001b[0;34m\u001b[0m\u001b[0m\n\u001b[1;32m      7\u001b[0m   \u001b[0md\u001b[0m \u001b[0;34m=\u001b[0m \u001b[0mDerivative\u001b[0m\u001b[0;34m(\u001b[0m\u001b[0mf\u001b[0m\u001b[0;34m,\u001b[0m \u001b[0mvar\u001b[0m\u001b[0;34m)\u001b[0m\u001b[0;34m.\u001b[0m\u001b[0mdoit\u001b[0m\u001b[0;34m(\u001b[0m\u001b[0;34m)\u001b[0m\u001b[0;34m\u001b[0m\u001b[0;34m\u001b[0m\u001b[0m\n\u001b[0;32m----> 8\u001b[0;31m   \u001b[0mvar_max\u001b[0m \u001b[0;34m=\u001b[0m \u001b[0mgrad_ascent\u001b[0m\u001b[0;34m(\u001b[0m\u001b[0mvar0\u001b[0m\u001b[0;34m,\u001b[0m \u001b[0md\u001b[0m\u001b[0;34m,\u001b[0m \u001b[0mvar\u001b[0m\u001b[0;34m)\u001b[0m \u001b[0;31m# thêm lệnh if (nằm trong khối lệnh else) để kiểm tra giá trị var_max trước khi kết luận:\u001b[0m\u001b[0;34m\u001b[0m\u001b[0;34m\u001b[0m\u001b[0m\n\u001b[0m\u001b[1;32m      9\u001b[0m   \u001b[0;32mif\u001b[0m \u001b[0mvar_max\u001b[0m\u001b[0;34m:\u001b[0m\u001b[0;34m\u001b[0m\u001b[0;34m\u001b[0m\u001b[0m\n\u001b[1;32m     10\u001b[0m     \u001b[0mprint\u001b[0m\u001b[0;34m(\u001b[0m\u001b[0;34m'{0}: {1}'\u001b[0m\u001b[0;34m.\u001b[0m\u001b[0mformat\u001b[0m\u001b[0;34m(\u001b[0m\u001b[0mvar\u001b[0m\u001b[0;34m.\u001b[0m\u001b[0mname\u001b[0m\u001b[0;34m,\u001b[0m \u001b[0mvar_max\u001b[0m\u001b[0;34m)\u001b[0m\u001b[0;34m)\u001b[0m\u001b[0;34m\u001b[0m\u001b[0;34m\u001b[0m\u001b[0m\n",
            "\u001b[0;32m<ipython-input-31-a9874c56b21f>\u001b[0m in \u001b[0;36mgrad_ascent\u001b[0;34m(x0, ham_f1x, x)\u001b[0m\n\u001b[1;32m      7\u001b[0m   \u001b[0;32mwhile\u001b[0m \u001b[0mabs\u001b[0m\u001b[0;34m(\u001b[0m\u001b[0mx_old\u001b[0m \u001b[0;34m-\u001b[0m \u001b[0mx_new\u001b[0m\u001b[0;34m)\u001b[0m \u001b[0;34m>\u001b[0m \u001b[0mepsilon\u001b[0m\u001b[0;34m:\u001b[0m\u001b[0;34m\u001b[0m\u001b[0;34m\u001b[0m\u001b[0m\n\u001b[1;32m      8\u001b[0m     \u001b[0mx_old\u001b[0m \u001b[0;34m=\u001b[0m \u001b[0mx_new\u001b[0m\u001b[0;34m\u001b[0m\u001b[0;34m\u001b[0m\u001b[0m\n\u001b[0;32m----> 9\u001b[0;31m     \u001b[0mx_new\u001b[0m \u001b[0;34m=\u001b[0m \u001b[0mx_old\u001b[0m \u001b[0;34m+\u001b[0m \u001b[0mstep_size\u001b[0m\u001b[0;34m*\u001b[0m\u001b[0mham_f1x\u001b[0m\u001b[0;34m.\u001b[0m\u001b[0msubs\u001b[0m\u001b[0;34m(\u001b[0m\u001b[0;34m{\u001b[0m\u001b[0mx\u001b[0m\u001b[0;34m:\u001b[0m\u001b[0mx_old\u001b[0m\u001b[0;34m}\u001b[0m\u001b[0;34m)\u001b[0m\u001b[0;34m.\u001b[0m\u001b[0mevalf\u001b[0m\u001b[0;34m(\u001b[0m\u001b[0;34m)\u001b[0m\u001b[0;34m\u001b[0m\u001b[0;34m\u001b[0m\u001b[0m\n\u001b[0m\u001b[1;32m     10\u001b[0m   \u001b[0;32mreturn\u001b[0m \u001b[0mx_new\u001b[0m\u001b[0;34m\u001b[0m\u001b[0;34m\u001b[0m\u001b[0m\n",
            "\u001b[0;32m/usr/local/lib/python3.7/dist-packages/sympy/core/basic.py\u001b[0m in \u001b[0;36msubs\u001b[0;34m(self, *args, **kwargs)\u001b[0m\n\u001b[1;32m    946\u001b[0m             \u001b[0mrv\u001b[0m \u001b[0;34m=\u001b[0m \u001b[0mself\u001b[0m\u001b[0;34m\u001b[0m\u001b[0;34m\u001b[0m\u001b[0m\n\u001b[1;32m    947\u001b[0m             \u001b[0;32mfor\u001b[0m \u001b[0mold\u001b[0m\u001b[0;34m,\u001b[0m \u001b[0mnew\u001b[0m \u001b[0;32min\u001b[0m \u001b[0msequence\u001b[0m\u001b[0;34m:\u001b[0m\u001b[0;34m\u001b[0m\u001b[0;34m\u001b[0m\u001b[0m\n\u001b[0;32m--> 948\u001b[0;31m                 \u001b[0mrv\u001b[0m \u001b[0;34m=\u001b[0m \u001b[0mrv\u001b[0m\u001b[0;34m.\u001b[0m\u001b[0m_subs\u001b[0m\u001b[0;34m(\u001b[0m\u001b[0mold\u001b[0m\u001b[0;34m,\u001b[0m \u001b[0mnew\u001b[0m\u001b[0;34m,\u001b[0m \u001b[0;34m**\u001b[0m\u001b[0mkwargs\u001b[0m\u001b[0;34m)\u001b[0m\u001b[0;34m\u001b[0m\u001b[0;34m\u001b[0m\u001b[0m\n\u001b[0m\u001b[1;32m    949\u001b[0m                 \u001b[0;32mif\u001b[0m \u001b[0;32mnot\u001b[0m \u001b[0misinstance\u001b[0m\u001b[0;34m(\u001b[0m\u001b[0mrv\u001b[0m\u001b[0;34m,\u001b[0m \u001b[0mBasic\u001b[0m\u001b[0;34m)\u001b[0m\u001b[0;34m:\u001b[0m\u001b[0;34m\u001b[0m\u001b[0;34m\u001b[0m\u001b[0m\n\u001b[1;32m    950\u001b[0m                     \u001b[0;32mbreak\u001b[0m\u001b[0;34m\u001b[0m\u001b[0;34m\u001b[0m\u001b[0m\n",
            "\u001b[0;32m/usr/local/lib/python3.7/dist-packages/sympy/core/cache.py\u001b[0m in \u001b[0;36mwrapper\u001b[0;34m(*args, **kwargs)\u001b[0m\n\u001b[1;32m     70\u001b[0m         \u001b[0;32mdef\u001b[0m \u001b[0mwrapper\u001b[0m\u001b[0;34m(\u001b[0m\u001b[0;34m*\u001b[0m\u001b[0margs\u001b[0m\u001b[0;34m,\u001b[0m \u001b[0;34m**\u001b[0m\u001b[0mkwargs\u001b[0m\u001b[0;34m)\u001b[0m\u001b[0;34m:\u001b[0m\u001b[0;34m\u001b[0m\u001b[0;34m\u001b[0m\u001b[0m\n\u001b[1;32m     71\u001b[0m             \u001b[0;32mtry\u001b[0m\u001b[0;34m:\u001b[0m\u001b[0;34m\u001b[0m\u001b[0;34m\u001b[0m\u001b[0m\n\u001b[0;32m---> 72\u001b[0;31m                 \u001b[0mretval\u001b[0m \u001b[0;34m=\u001b[0m \u001b[0mcfunc\u001b[0m\u001b[0;34m(\u001b[0m\u001b[0;34m*\u001b[0m\u001b[0margs\u001b[0m\u001b[0;34m,\u001b[0m \u001b[0;34m**\u001b[0m\u001b[0mkwargs\u001b[0m\u001b[0;34m)\u001b[0m\u001b[0;34m\u001b[0m\u001b[0;34m\u001b[0m\u001b[0m\n\u001b[0m\u001b[1;32m     73\u001b[0m             \u001b[0;32mexcept\u001b[0m \u001b[0mTypeError\u001b[0m\u001b[0;34m:\u001b[0m\u001b[0;34m\u001b[0m\u001b[0;34m\u001b[0m\u001b[0m\n\u001b[1;32m     74\u001b[0m                 \u001b[0mretval\u001b[0m \u001b[0;34m=\u001b[0m \u001b[0mfunc\u001b[0m\u001b[0;34m(\u001b[0m\u001b[0;34m*\u001b[0m\u001b[0margs\u001b[0m\u001b[0;34m,\u001b[0m \u001b[0;34m**\u001b[0m\u001b[0mkwargs\u001b[0m\u001b[0;34m)\u001b[0m\u001b[0;34m\u001b[0m\u001b[0;34m\u001b[0m\u001b[0m\n",
            "\u001b[0;32m/usr/local/lib/python3.7/dist-packages/sympy/core/basic.py\u001b[0m in \u001b[0;36m_subs\u001b[0;34m(self, old, new, **hints)\u001b[0m\n\u001b[1;32m   1058\u001b[0m             \u001b[0;32mreturn\u001b[0m \u001b[0mnew\u001b[0m\u001b[0;34m\u001b[0m\u001b[0;34m\u001b[0m\u001b[0m\n\u001b[1;32m   1059\u001b[0m \u001b[0;34m\u001b[0m\u001b[0m\n\u001b[0;32m-> 1060\u001b[0;31m         \u001b[0mrv\u001b[0m \u001b[0;34m=\u001b[0m \u001b[0mself\u001b[0m\u001b[0;34m.\u001b[0m\u001b[0m_eval_subs\u001b[0m\u001b[0;34m(\u001b[0m\u001b[0mold\u001b[0m\u001b[0;34m,\u001b[0m \u001b[0mnew\u001b[0m\u001b[0;34m)\u001b[0m\u001b[0;34m\u001b[0m\u001b[0;34m\u001b[0m\u001b[0m\n\u001b[0m\u001b[1;32m   1061\u001b[0m         \u001b[0;32mif\u001b[0m \u001b[0mrv\u001b[0m \u001b[0;32mis\u001b[0m \u001b[0;32mNone\u001b[0m\u001b[0;34m:\u001b[0m\u001b[0;34m\u001b[0m\u001b[0;34m\u001b[0m\u001b[0m\n\u001b[1;32m   1062\u001b[0m             \u001b[0mrv\u001b[0m \u001b[0;34m=\u001b[0m \u001b[0mfallback\u001b[0m\u001b[0;34m(\u001b[0m\u001b[0mself\u001b[0m\u001b[0;34m,\u001b[0m \u001b[0mold\u001b[0m\u001b[0;34m,\u001b[0m \u001b[0mnew\u001b[0m\u001b[0;34m)\u001b[0m\u001b[0;34m\u001b[0m\u001b[0;34m\u001b[0m\u001b[0m\n",
            "\u001b[0;32m/usr/local/lib/python3.7/dist-packages/sympy/core/power.py\u001b[0m in \u001b[0;36m_eval_subs\u001b[0;34m(self, old, new)\u001b[0m\n\u001b[1;32m    816\u001b[0m \u001b[0;34m\u001b[0m\u001b[0m\n\u001b[1;32m    817\u001b[0m         \u001b[0;32mif\u001b[0m \u001b[0mold\u001b[0m \u001b[0;34m==\u001b[0m \u001b[0mself\u001b[0m\u001b[0;34m.\u001b[0m\u001b[0mbase\u001b[0m\u001b[0;34m:\u001b[0m\u001b[0;34m\u001b[0m\u001b[0;34m\u001b[0m\u001b[0m\n\u001b[0;32m--> 818\u001b[0;31m             \u001b[0;32mreturn\u001b[0m \u001b[0mnew\u001b[0m\u001b[0;34m**\u001b[0m\u001b[0mself\u001b[0m\u001b[0;34m.\u001b[0m\u001b[0mexp\u001b[0m\u001b[0;34m.\u001b[0m\u001b[0m_subs\u001b[0m\u001b[0;34m(\u001b[0m\u001b[0mold\u001b[0m\u001b[0;34m,\u001b[0m \u001b[0mnew\u001b[0m\u001b[0;34m)\u001b[0m\u001b[0;34m\u001b[0m\u001b[0;34m\u001b[0m\u001b[0m\n\u001b[0m\u001b[1;32m    819\u001b[0m \u001b[0;34m\u001b[0m\u001b[0m\n\u001b[1;32m    820\u001b[0m         \u001b[0;31m# issue 10829: (4**x - 3*y + 2).subs(2**x, y) -> y**2 - 3*y + 2\u001b[0m\u001b[0;34m\u001b[0m\u001b[0;34m\u001b[0m\u001b[0;34m\u001b[0m\u001b[0m\n",
            "\u001b[0;32m/usr/local/lib/python3.7/dist-packages/sympy/core/expr.py\u001b[0m in \u001b[0;36m__pow__\u001b[0;34m(self, other, mod)\u001b[0m\n\u001b[1;32m    229\u001b[0m     \u001b[0;32mdef\u001b[0m \u001b[0m__pow__\u001b[0m\u001b[0;34m(\u001b[0m\u001b[0mself\u001b[0m\u001b[0;34m,\u001b[0m \u001b[0mother\u001b[0m\u001b[0;34m,\u001b[0m \u001b[0mmod\u001b[0m\u001b[0;34m=\u001b[0m\u001b[0;32mNone\u001b[0m\u001b[0;34m)\u001b[0m\u001b[0;34m:\u001b[0m\u001b[0;34m\u001b[0m\u001b[0;34m\u001b[0m\u001b[0m\n\u001b[1;32m    230\u001b[0m         \u001b[0;32mif\u001b[0m \u001b[0mmod\u001b[0m \u001b[0;32mis\u001b[0m \u001b[0;32mNone\u001b[0m\u001b[0;34m:\u001b[0m\u001b[0;34m\u001b[0m\u001b[0;34m\u001b[0m\u001b[0m\n\u001b[0;32m--> 231\u001b[0;31m             \u001b[0;32mreturn\u001b[0m \u001b[0mself\u001b[0m\u001b[0;34m.\u001b[0m\u001b[0m_pow\u001b[0m\u001b[0;34m(\u001b[0m\u001b[0mother\u001b[0m\u001b[0;34m)\u001b[0m\u001b[0;34m\u001b[0m\u001b[0;34m\u001b[0m\u001b[0m\n\u001b[0m\u001b[1;32m    232\u001b[0m         \u001b[0;32mtry\u001b[0m\u001b[0;34m:\u001b[0m\u001b[0;34m\u001b[0m\u001b[0;34m\u001b[0m\u001b[0m\n\u001b[1;32m    233\u001b[0m             \u001b[0m_self\u001b[0m\u001b[0;34m,\u001b[0m \u001b[0mother\u001b[0m\u001b[0;34m,\u001b[0m \u001b[0mmod\u001b[0m \u001b[0;34m=\u001b[0m \u001b[0mas_int\u001b[0m\u001b[0;34m(\u001b[0m\u001b[0mself\u001b[0m\u001b[0;34m)\u001b[0m\u001b[0;34m,\u001b[0m \u001b[0mas_int\u001b[0m\u001b[0;34m(\u001b[0m\u001b[0mother\u001b[0m\u001b[0;34m)\u001b[0m\u001b[0;34m,\u001b[0m \u001b[0mas_int\u001b[0m\u001b[0;34m(\u001b[0m\u001b[0mmod\u001b[0m\u001b[0;34m)\u001b[0m\u001b[0;34m\u001b[0m\u001b[0;34m\u001b[0m\u001b[0m\n",
            "\u001b[0;32m/usr/local/lib/python3.7/dist-packages/sympy/core/decorators.py\u001b[0m in \u001b[0;36m_func\u001b[0;34m(self, other)\u001b[0m\n\u001b[1;32m    265\u001b[0m             \u001b[0;32mif\u001b[0m \u001b[0;32mnot\u001b[0m \u001b[0misinstance\u001b[0m\u001b[0;34m(\u001b[0m\u001b[0mother\u001b[0m\u001b[0;34m,\u001b[0m \u001b[0mexpectedcls\u001b[0m\u001b[0;34m)\u001b[0m\u001b[0;34m:\u001b[0m\u001b[0;34m\u001b[0m\u001b[0;34m\u001b[0m\u001b[0m\n\u001b[1;32m    266\u001b[0m                 \u001b[0;32mreturn\u001b[0m \u001b[0mretval\u001b[0m\u001b[0;34m\u001b[0m\u001b[0;34m\u001b[0m\u001b[0m\n\u001b[0;32m--> 267\u001b[0;31m             \u001b[0;32mreturn\u001b[0m \u001b[0mfunc\u001b[0m\u001b[0;34m(\u001b[0m\u001b[0mself\u001b[0m\u001b[0;34m,\u001b[0m \u001b[0mother\u001b[0m\u001b[0;34m)\u001b[0m\u001b[0;34m\u001b[0m\u001b[0;34m\u001b[0m\u001b[0m\n\u001b[0m\u001b[1;32m    268\u001b[0m \u001b[0;34m\u001b[0m\u001b[0m\n\u001b[1;32m    269\u001b[0m         \u001b[0;32mreturn\u001b[0m \u001b[0m_func\u001b[0m\u001b[0;34m\u001b[0m\u001b[0;34m\u001b[0m\u001b[0m\n",
            "\u001b[0;32m/usr/local/lib/python3.7/dist-packages/sympy/core/decorators.py\u001b[0m in \u001b[0;36mbinary_op_wrapper\u001b[0;34m(self, other)\u001b[0m\n\u001b[1;32m    135\u001b[0m                     \u001b[0;32mif\u001b[0m \u001b[0mf\u001b[0m \u001b[0;32mis\u001b[0m \u001b[0;32mnot\u001b[0m \u001b[0;32mNone\u001b[0m\u001b[0;34m:\u001b[0m\u001b[0;34m\u001b[0m\u001b[0;34m\u001b[0m\u001b[0m\n\u001b[1;32m    136\u001b[0m                         \u001b[0;32mreturn\u001b[0m \u001b[0mf\u001b[0m\u001b[0;34m(\u001b[0m\u001b[0mself\u001b[0m\u001b[0;34m)\u001b[0m\u001b[0;34m\u001b[0m\u001b[0;34m\u001b[0m\u001b[0m\n\u001b[0;32m--> 137\u001b[0;31m             \u001b[0;32mreturn\u001b[0m \u001b[0mfunc\u001b[0m\u001b[0;34m(\u001b[0m\u001b[0mself\u001b[0m\u001b[0;34m,\u001b[0m \u001b[0mother\u001b[0m\u001b[0;34m)\u001b[0m\u001b[0;34m\u001b[0m\u001b[0;34m\u001b[0m\u001b[0m\n\u001b[0m\u001b[1;32m    138\u001b[0m         \u001b[0;32mreturn\u001b[0m \u001b[0mbinary_op_wrapper\u001b[0m\u001b[0;34m\u001b[0m\u001b[0;34m\u001b[0m\u001b[0m\n\u001b[1;32m    139\u001b[0m     \u001b[0;32mreturn\u001b[0m \u001b[0mpriority_decorator\u001b[0m\u001b[0;34m\u001b[0m\u001b[0;34m\u001b[0m\u001b[0m\n",
            "\u001b[0;32m/usr/local/lib/python3.7/dist-packages/sympy/core/expr.py\u001b[0m in \u001b[0;36m_pow\u001b[0;34m(self, other)\u001b[0m\n\u001b[1;32m    225\u001b[0m     \u001b[0;34m@\u001b[0m\u001b[0mcall_highest_priority\u001b[0m\u001b[0;34m(\u001b[0m\u001b[0;34m'__rpow__'\u001b[0m\u001b[0;34m)\u001b[0m\u001b[0;34m\u001b[0m\u001b[0;34m\u001b[0m\u001b[0m\n\u001b[1;32m    226\u001b[0m     \u001b[0;32mdef\u001b[0m \u001b[0m_pow\u001b[0m\u001b[0;34m(\u001b[0m\u001b[0mself\u001b[0m\u001b[0;34m,\u001b[0m \u001b[0mother\u001b[0m\u001b[0;34m)\u001b[0m\u001b[0;34m:\u001b[0m\u001b[0;34m\u001b[0m\u001b[0;34m\u001b[0m\u001b[0m\n\u001b[0;32m--> 227\u001b[0;31m         \u001b[0;32mreturn\u001b[0m \u001b[0mPow\u001b[0m\u001b[0;34m(\u001b[0m\u001b[0mself\u001b[0m\u001b[0;34m,\u001b[0m \u001b[0mother\u001b[0m\u001b[0;34m)\u001b[0m\u001b[0;34m\u001b[0m\u001b[0;34m\u001b[0m\u001b[0m\n\u001b[0m\u001b[1;32m    228\u001b[0m \u001b[0;34m\u001b[0m\u001b[0m\n\u001b[1;32m    229\u001b[0m     \u001b[0;32mdef\u001b[0m \u001b[0m__pow__\u001b[0m\u001b[0;34m(\u001b[0m\u001b[0mself\u001b[0m\u001b[0;34m,\u001b[0m \u001b[0mother\u001b[0m\u001b[0;34m,\u001b[0m \u001b[0mmod\u001b[0m\u001b[0;34m=\u001b[0m\u001b[0;32mNone\u001b[0m\u001b[0;34m)\u001b[0m\u001b[0;34m:\u001b[0m\u001b[0;34m\u001b[0m\u001b[0;34m\u001b[0m\u001b[0m\n",
            "\u001b[0;32m/usr/local/lib/python3.7/dist-packages/sympy/core/cache.py\u001b[0m in \u001b[0;36mwrapper\u001b[0;34m(*args, **kwargs)\u001b[0m\n\u001b[1;32m     70\u001b[0m         \u001b[0;32mdef\u001b[0m \u001b[0mwrapper\u001b[0m\u001b[0;34m(\u001b[0m\u001b[0;34m*\u001b[0m\u001b[0margs\u001b[0m\u001b[0;34m,\u001b[0m \u001b[0;34m**\u001b[0m\u001b[0mkwargs\u001b[0m\u001b[0;34m)\u001b[0m\u001b[0;34m:\u001b[0m\u001b[0;34m\u001b[0m\u001b[0;34m\u001b[0m\u001b[0m\n\u001b[1;32m     71\u001b[0m             \u001b[0;32mtry\u001b[0m\u001b[0;34m:\u001b[0m\u001b[0;34m\u001b[0m\u001b[0;34m\u001b[0m\u001b[0m\n\u001b[0;32m---> 72\u001b[0;31m                 \u001b[0mretval\u001b[0m \u001b[0;34m=\u001b[0m \u001b[0mcfunc\u001b[0m\u001b[0;34m(\u001b[0m\u001b[0;34m*\u001b[0m\u001b[0margs\u001b[0m\u001b[0;34m,\u001b[0m \u001b[0;34m**\u001b[0m\u001b[0mkwargs\u001b[0m\u001b[0;34m)\u001b[0m\u001b[0;34m\u001b[0m\u001b[0;34m\u001b[0m\u001b[0m\n\u001b[0m\u001b[1;32m     73\u001b[0m             \u001b[0;32mexcept\u001b[0m \u001b[0mTypeError\u001b[0m\u001b[0;34m:\u001b[0m\u001b[0;34m\u001b[0m\u001b[0;34m\u001b[0m\u001b[0m\n\u001b[1;32m     74\u001b[0m                 \u001b[0mretval\u001b[0m \u001b[0;34m=\u001b[0m \u001b[0mfunc\u001b[0m\u001b[0;34m(\u001b[0m\u001b[0;34m*\u001b[0m\u001b[0margs\u001b[0m\u001b[0;34m,\u001b[0m \u001b[0;34m**\u001b[0m\u001b[0mkwargs\u001b[0m\u001b[0;34m)\u001b[0m\u001b[0;34m\u001b[0m\u001b[0;34m\u001b[0m\u001b[0m\n",
            "\u001b[0;32m/usr/local/lib/python3.7/dist-packages/sympy/core/power.py\u001b[0m in \u001b[0;36m__new__\u001b[0;34m(cls, b, e, evaluate)\u001b[0m\n\u001b[1;32m    304\u001b[0m             \u001b[0;31m# Only perform autosimplification if exponent or base is a Symbol or number\u001b[0m\u001b[0;34m\u001b[0m\u001b[0;34m\u001b[0m\u001b[0;34m\u001b[0m\u001b[0m\n\u001b[1;32m    305\u001b[0m             \u001b[0;32melif\u001b[0m \u001b[0;34m(\u001b[0m\u001b[0mb\u001b[0m\u001b[0;34m.\u001b[0m\u001b[0mis_Symbol\u001b[0m \u001b[0;32mor\u001b[0m \u001b[0mb\u001b[0m\u001b[0;34m.\u001b[0m\u001b[0mis_number\u001b[0m\u001b[0;34m)\u001b[0m \u001b[0;32mand\u001b[0m \u001b[0;34m(\u001b[0m\u001b[0me\u001b[0m\u001b[0;34m.\u001b[0m\u001b[0mis_Symbol\u001b[0m \u001b[0;32mor\u001b[0m \u001b[0me\u001b[0m\u001b[0;34m.\u001b[0m\u001b[0mis_number\u001b[0m\u001b[0;34m)\u001b[0m \u001b[0;32mand\u001b[0m\u001b[0;31m\\\u001b[0m\u001b[0;34m\u001b[0m\u001b[0;34m\u001b[0m\u001b[0m\n\u001b[0;32m--> 306\u001b[0;31m                 \u001b[0me\u001b[0m\u001b[0;34m.\u001b[0m\u001b[0mis_integer\u001b[0m \u001b[0;32mand\u001b[0m \u001b[0m_coeff_isneg\u001b[0m\u001b[0;34m(\u001b[0m\u001b[0mb\u001b[0m\u001b[0;34m)\u001b[0m\u001b[0;34m:\u001b[0m\u001b[0;34m\u001b[0m\u001b[0;34m\u001b[0m\u001b[0m\n\u001b[0m\u001b[1;32m    307\u001b[0m                 \u001b[0;32mif\u001b[0m \u001b[0me\u001b[0m\u001b[0;34m.\u001b[0m\u001b[0mis_even\u001b[0m\u001b[0;34m:\u001b[0m\u001b[0;34m\u001b[0m\u001b[0;34m\u001b[0m\u001b[0m\n\u001b[1;32m    308\u001b[0m                     \u001b[0mb\u001b[0m \u001b[0;34m=\u001b[0m \u001b[0;34m-\u001b[0m\u001b[0mb\u001b[0m\u001b[0;34m\u001b[0m\u001b[0;34m\u001b[0m\u001b[0m\n",
            "\u001b[0;32m/usr/local/lib/python3.7/dist-packages/sympy/core/function.py\u001b[0m in \u001b[0;36m_coeff_isneg\u001b[0;34m(a)\u001b[0m\n\u001b[1;32m     91\u001b[0m     \u001b[0;32mif\u001b[0m \u001b[0ma\u001b[0m\u001b[0;34m.\u001b[0m\u001b[0mis_Mul\u001b[0m\u001b[0;34m:\u001b[0m\u001b[0;34m\u001b[0m\u001b[0;34m\u001b[0m\u001b[0m\n\u001b[1;32m     92\u001b[0m         \u001b[0ma\u001b[0m \u001b[0;34m=\u001b[0m \u001b[0ma\u001b[0m\u001b[0;34m.\u001b[0m\u001b[0margs\u001b[0m\u001b[0;34m[\u001b[0m\u001b[0;36m0\u001b[0m\u001b[0;34m]\u001b[0m\u001b[0;34m\u001b[0m\u001b[0;34m\u001b[0m\u001b[0m\n\u001b[0;32m---> 93\u001b[0;31m     \u001b[0;32mreturn\u001b[0m \u001b[0ma\u001b[0m\u001b[0;34m.\u001b[0m\u001b[0mis_Number\u001b[0m \u001b[0;32mand\u001b[0m \u001b[0ma\u001b[0m\u001b[0;34m.\u001b[0m\u001b[0mis_extended_negative\u001b[0m\u001b[0;34m\u001b[0m\u001b[0;34m\u001b[0m\u001b[0m\n\u001b[0m\u001b[1;32m     94\u001b[0m \u001b[0;34m\u001b[0m\u001b[0m\n\u001b[1;32m     95\u001b[0m \u001b[0;34m\u001b[0m\u001b[0m\n",
            "\u001b[0;32m/usr/local/lib/python3.7/dist-packages/sympy/core/assumptions.py\u001b[0m in \u001b[0;36mgetit\u001b[0;34m(self)\u001b[0m\n\u001b[1;32m    456\u001b[0m             \u001b[0;32mif\u001b[0m \u001b[0mself\u001b[0m\u001b[0;34m.\u001b[0m\u001b[0m_assumptions\u001b[0m \u001b[0;32mis\u001b[0m \u001b[0mself\u001b[0m\u001b[0;34m.\u001b[0m\u001b[0mdefault_assumptions\u001b[0m\u001b[0;34m:\u001b[0m\u001b[0;34m\u001b[0m\u001b[0;34m\u001b[0m\u001b[0m\n\u001b[1;32m    457\u001b[0m                 \u001b[0mself\u001b[0m\u001b[0;34m.\u001b[0m\u001b[0m_assumptions\u001b[0m \u001b[0;34m=\u001b[0m \u001b[0mself\u001b[0m\u001b[0;34m.\u001b[0m\u001b[0mdefault_assumptions\u001b[0m\u001b[0;34m.\u001b[0m\u001b[0mcopy\u001b[0m\u001b[0;34m(\u001b[0m\u001b[0;34m)\u001b[0m\u001b[0;34m\u001b[0m\u001b[0;34m\u001b[0m\u001b[0m\n\u001b[0;32m--> 458\u001b[0;31m             \u001b[0;32mreturn\u001b[0m \u001b[0m_ask\u001b[0m\u001b[0;34m(\u001b[0m\u001b[0mfact\u001b[0m\u001b[0;34m,\u001b[0m \u001b[0mself\u001b[0m\u001b[0;34m)\u001b[0m\u001b[0;34m\u001b[0m\u001b[0;34m\u001b[0m\u001b[0m\n\u001b[0m\u001b[1;32m    459\u001b[0m \u001b[0;34m\u001b[0m\u001b[0m\n\u001b[1;32m    460\u001b[0m     \u001b[0mgetit\u001b[0m\u001b[0;34m.\u001b[0m\u001b[0mfunc_name\u001b[0m \u001b[0;34m=\u001b[0m \u001b[0mas_property\u001b[0m\u001b[0;34m(\u001b[0m\u001b[0mfact\u001b[0m\u001b[0;34m)\u001b[0m\u001b[0;34m\u001b[0m\u001b[0;34m\u001b[0m\u001b[0m\n",
            "\u001b[0;32m/usr/local/lib/python3.7/dist-packages/sympy/core/assumptions.py\u001b[0m in \u001b[0;36m_ask\u001b[0;34m(fact, obj)\u001b[0m\n\u001b[1;32m    501\u001b[0m         \u001b[0ma\u001b[0m \u001b[0;34m=\u001b[0m \u001b[0mevaluate\u001b[0m\u001b[0;34m(\u001b[0m\u001b[0mobj\u001b[0m\u001b[0;34m)\u001b[0m\u001b[0;34m\u001b[0m\u001b[0;34m\u001b[0m\u001b[0m\n\u001b[1;32m    502\u001b[0m         \u001b[0;32mif\u001b[0m \u001b[0ma\u001b[0m \u001b[0;32mis\u001b[0m \u001b[0;32mnot\u001b[0m \u001b[0;32mNone\u001b[0m\u001b[0;34m:\u001b[0m\u001b[0;34m\u001b[0m\u001b[0;34m\u001b[0m\u001b[0m\n\u001b[0;32m--> 503\u001b[0;31m             \u001b[0massumptions\u001b[0m\u001b[0;34m.\u001b[0m\u001b[0mdeduce_all_facts\u001b[0m\u001b[0;34m(\u001b[0m\u001b[0;34m(\u001b[0m\u001b[0;34m(\u001b[0m\u001b[0mfact\u001b[0m\u001b[0;34m,\u001b[0m \u001b[0ma\u001b[0m\u001b[0;34m)\u001b[0m\u001b[0;34m,\u001b[0m\u001b[0;34m)\u001b[0m\u001b[0;34m)\u001b[0m\u001b[0;34m\u001b[0m\u001b[0;34m\u001b[0m\u001b[0m\n\u001b[0m\u001b[1;32m    504\u001b[0m             \u001b[0;32mreturn\u001b[0m \u001b[0ma\u001b[0m\u001b[0;34m\u001b[0m\u001b[0;34m\u001b[0m\u001b[0m\n\u001b[1;32m    505\u001b[0m \u001b[0;34m\u001b[0m\u001b[0m\n",
            "\u001b[0;32m/usr/local/lib/python3.7/dist-packages/sympy/core/facts.py\u001b[0m in \u001b[0;36mdeduce_all_facts\u001b[0;34m(self, facts)\u001b[0m\n\u001b[1;32m    531\u001b[0m             \u001b[0;32mfor\u001b[0m \u001b[0mbidx\u001b[0m \u001b[0;32min\u001b[0m \u001b[0mbeta_maytrigger\u001b[0m\u001b[0;34m:\u001b[0m\u001b[0;34m\u001b[0m\u001b[0;34m\u001b[0m\u001b[0m\n\u001b[1;32m    532\u001b[0m                 \u001b[0mbcond\u001b[0m\u001b[0;34m,\u001b[0m \u001b[0mbimpl\u001b[0m \u001b[0;34m=\u001b[0m \u001b[0mbeta_rules\u001b[0m\u001b[0;34m[\u001b[0m\u001b[0mbidx\u001b[0m\u001b[0;34m]\u001b[0m\u001b[0;34m\u001b[0m\u001b[0;34m\u001b[0m\u001b[0m\n\u001b[0;32m--> 533\u001b[0;31m                 \u001b[0;32mif\u001b[0m \u001b[0mall\u001b[0m\u001b[0;34m(\u001b[0m\u001b[0mself\u001b[0m\u001b[0;34m.\u001b[0m\u001b[0mget\u001b[0m\u001b[0;34m(\u001b[0m\u001b[0mk\u001b[0m\u001b[0;34m)\u001b[0m \u001b[0;32mis\u001b[0m \u001b[0mv\u001b[0m \u001b[0;32mfor\u001b[0m \u001b[0mk\u001b[0m\u001b[0;34m,\u001b[0m \u001b[0mv\u001b[0m \u001b[0;32min\u001b[0m \u001b[0mbcond\u001b[0m\u001b[0;34m)\u001b[0m\u001b[0;34m:\u001b[0m\u001b[0;34m\u001b[0m\u001b[0;34m\u001b[0m\u001b[0m\n\u001b[0m\u001b[1;32m    534\u001b[0m                     \u001b[0mfacts\u001b[0m\u001b[0;34m.\u001b[0m\u001b[0mappend\u001b[0m\u001b[0;34m(\u001b[0m\u001b[0mbimpl\u001b[0m\u001b[0;34m)\u001b[0m\u001b[0;34m\u001b[0m\u001b[0;34m\u001b[0m\u001b[0m\n",
            "\u001b[0;31mKeyboardInterrupt\u001b[0m: "
          ]
        }
      ]
    },
    {
      "cell_type": "markdown",
      "source": [
        "**3.1.Chương trình tổng quát về Gradient Ascent**"
      ],
      "metadata": {
        "id": "Jjw68kWTL3Gz"
      }
    },
    {
      "cell_type": "code",
      "source": [
        "from sympy import Derivative, Symbol, sympify \n",
        "def grad_ascent(x0, ham_f1x, x):     \n",
        "  epsilon = 1e-6     \n",
        "  step_size = 1e-4     \n",
        "  x_old = x0     \n",
        "  x_new = x_old + step_size*ham_f1x.subs({x:x_old}).evalf()     \n",
        "  while abs(x_old - x_new) > epsilon:         \n",
        "    x_old = x_new         \n",
        "    x_new = x_old + step_size*ham_f1x.subs({x:x_old}).evalf()\n",
        "    return x_new \n",
        "if __name__ == '__main__':     \n",
        "  f = input('Nhap ham 1 bien (f): ')     \n",
        "  var = input('Nhap ten bien tuong ung (x): ')     \n",
        "  var0 = float(input('Nhap gia tri khoi dau cho bien x: ')) \n",
        "  try:         \n",
        "    f = sympify(f)  # kiem tra ham     \n",
        "  except SympifyError:         \n",
        "    print('Ham nhap khong hop le!')     \n",
        "  else:         \n",
        "    var = Symbol(var)         \n",
        "    d = Derivative(f, var).doit()         \n",
        "    var_max = grad_ascent(var0, d, var)         \n",
        "    print('{0}: {1}'.format(var.name, var_max))         \n",
        "    print('Maximum value: {0}'.format(f.subs({var:var_max})))"
      ],
      "metadata": {
        "id": "8JMcRnuXL_tt",
        "outputId": "be2ba59d-9f81-4ebe-b186-d4b5d6e382d0",
        "colab": {
          "base_uri": "https://localhost:8080/"
        }
      },
      "execution_count": 2,
      "outputs": [
        {
          "output_type": "stream",
          "name": "stdout",
          "text": [
            "Nhap ham 1 bien (f): 25*25*sin(2*theta)/9.8 \n",
            "Nhap ten bien tuong ung (x): theta\n",
            "Nhap gia tri khoi dau cho bien x: 0.001\n",
            "theta: 0.0265053522908712\n",
            "Maximum value: 3.37920154330593\n"
          ]
        }
      ]
    },
    {
      "cell_type": "code",
      "source": [
        "from sympy import Derivative, Symbol, sympify \n",
        "def grad_ascent(x0, ham_f1x, x):     \n",
        "  epsilon = 1e-6     \n",
        "  step_size = 1e-4     \n",
        "  x_old = x0     \n",
        "  x_new = x_old + step_size*ham_f1x.subs({x:x_old}).evalf()     \n",
        "  while abs(x_old - x_new) > epsilon:         \n",
        "    x_old = x_new         \n",
        "    x_new = x_old + step_size*ham_f1x.subs({x:x_old}).evalf()\n",
        "    return x_new \n",
        "if __name__ == '__main__':     \n",
        "  f = input('Nhap ham 1 bien (f): ')     \n",
        "  var = input('Nhap ten bien tuong ung (x): ')     \n",
        "  var0 = float(input('Nhap gia tri khoi dau cho bien x: ')) \n",
        "  try:         \n",
        "    f = sympify(f)  # kiem tra ham     \n",
        "  except SympifyError:         \n",
        "    print('Ham nhap khong hop le!')     \n",
        "  else:         \n",
        "    var = Symbol(var)         \n",
        "    d = Derivative(f, var).doit()         \n",
        "    var_max = grad_ascent(var0, d, var)         \n",
        "    print('{0}: {1}'.format(var.name, var_max))         \n",
        "    print('Maximum value: {0}'.format(f.subs({var:var_max})))"
      ],
      "metadata": {
        "id": "5vanMqmiMHes",
        "outputId": "e4e6b0bd-fb10-497c-8b54-f099a329b825",
        "colab": {
          "base_uri": "https://localhost:8080/"
        }
      },
      "execution_count": 3,
      "outputs": [
        {
          "output_type": "stream",
          "name": "stdout",
          "text": [
            "Nhap ham 1 bien (f): cos(t)\n",
            "Nhap ten bien tuong ung (x):  t\n",
            "Nhap gia tri khoi dau cho bien x: 0.01\n",
            " t: None\n",
            "Maximum value: cos(t)\n"
          ]
        }
      ]
    },
    {
      "cell_type": "markdown",
      "source": [
        "**3.2.Các lưu ý về giá trị khởi tạo ban đầu (initial value)**"
      ],
      "metadata": {
        "id": "XDmYnIbqMSdD"
      }
    },
    {
      "cell_type": "code",
      "source": [
        "from sympy import Derivative, Symbol, sympify \n",
        "def grad_ascent(x0, ham_f1x, x):     \n",
        "  epsilon = 1e-6     \n",
        "  step_size = 1e-4     \n",
        "  x_old = x0     \n",
        "  x_new = x_old + step_size*ham_f1x.subs({x:x_old}).evalf()     \n",
        "  while abs(x_old - x_new) > epsilon:         \n",
        "    x_old = x_new         \n",
        "    x_new = x_old + step_size*ham_f1x.subs({x:x_old}).evalf()\n",
        "    return x_new \n",
        "if __name__ == '__main__':     \n",
        "  f = input('Nhap ham 1 bien (f): ')     \n",
        "  var = input('Nhap ten bien tuong ung (x): ')     \n",
        "  var0 = float(input('Nhap gia tri khoi dau cho bien x: ')) \n",
        "  try:         \n",
        "    f = sympify(f)  # kiem tra ham     \n",
        "  except SympifyError:\n",
        "    print('Ham nhap khong hop le!')     \n",
        "  else:         \n",
        "    var = Symbol(var)         \n",
        "    d = Derivative(f, var).doit()         \n",
        "    var_max = grad_ascent(var0, d, var)         \n",
        "    print('{0}: {1}'.format(var.name, var_max))         \n",
        "    print('Maximum value: {0}'.format(f.subs({var:var_max})))"
      ],
      "metadata": {
        "id": "ppYl_FEPMW1k",
        "outputId": "5b7e4b5f-2d5e-4808-997d-ae29fbfa239f",
        "colab": {
          "base_uri": "https://localhost:8080/"
        }
      },
      "execution_count": 4,
      "outputs": [
        {
          "output_type": "stream",
          "name": "stdout",
          "text": [
            "Nhap ham 1 bien (f): x**5-30*x**3+50*x \n",
            "Nhap ten bien tuong ung (x): x\n",
            "Nhap gia tri khoi dau cho bien x: -2\n",
            "x: -2.04645836419208\n",
            "Maximum value: 118.900212174206\n"
          ]
        }
      ]
    },
    {
      "cell_type": "markdown",
      "source": [
        "**3.3.Vai trò của kích thước bước nhảy (step_size) và Epsilon**"
      ],
      "metadata": {
        "id": "5d2AnfeWMgP3"
      }
    },
    {
      "cell_type": "code",
      "source": [
        "from sympy import Derivative, Symbol, sympify\n",
        "def grad_ascent(x0,ham_f1x,x):\n",
        "  from sympy import solve, E\n",
        "  if not solve(ham_f1x):\n",
        "    print('Khong the tiep tuc, phuong trinh {0}=0 vo nghiem'.format(ham_f1x))\n",
        "    return\n",
        "  epsilon = 1e-6     \n",
        "  step_size = 1e-4     \n",
        "  x_old = x0 \n",
        "  x_new = x_old + step_size*ham_f1x.subs({x:x_old}).evalf()     \n",
        "  while abs(x_old - x_new) > epsilon:         \n",
        "    x_old = x_new         \n",
        "    x_new = x_old + step_size*ham_f1x.subs({x:x_old}).evalf()\n",
        "  return x_new\n",
        "f = input('Nhap ham 1 bien (f): ')     \n",
        "var = input('Nhap ten bien tuong ung (x): ')\n",
        "var0 = float(input('Nhap gia tri khoi dau cho bien x: '))\n",
        "try:\n",
        "  f = sympify(f)\n",
        "except SympifyError:\n",
        "  print('Ham nhap khong hop le!')\n",
        "else:\n",
        "  var = Symbol(var)         \n",
        "  d = Derivative(f, var).doit()         \n",
        "  var_max = grad_ascent(var0, d, var) \n",
        "  if var_max:               \n",
        "    print('{0}: {1}'.format(var.name, var_max))             \n",
        "    print('Maximum value: {0}'.format(f.subs({var:var_max})))"
      ],
      "metadata": {
        "id": "_3ZYHm5dMh7t",
        "outputId": "2a566517-808f-447f-8cd7-f0fe34b68247",
        "colab": {
          "base_uri": "https://localhost:8080/"
        }
      },
      "execution_count": 5,
      "outputs": [
        {
          "output_type": "stream",
          "name": "stdout",
          "text": [
            "Nhap ham 1 bien (f): log(x)\n",
            "Nhap ten bien tuong ung (x): x\n",
            "Nhap gia tri khoi dau cho bien x: 0.1\n",
            "Khong the tiep tuc, phuong trinh 1/x=0 vo nghiem\n"
          ]
        }
      ]
    },
    {
      "cell_type": "code",
      "source": [
        "from sympy import Derivative, Symbol, sympify\n",
        "def grad_ascent(x0,ham_f1x,x):\n",
        "  from sympy import solve, E\n",
        "  if not solve(ham_f1x):\n",
        "    print('Khong the tiep tuc, phuong trinh {0}=0 vo nghiem'.format(ham_f1x))\n",
        "    return\n",
        "  epsilon = 1e-6     \n",
        "  step_size = 1e-4     \n",
        "  x_old = x0 \n",
        "  x_new = x_old + step_size*ham_f1x.subs({x:x_old}).evalf()     \n",
        "  while abs(x_old - x_new) > epsilon:         \n",
        "    x_old = x_new         \n",
        "    x_new = x_old + step_size*ham_f1x.subs({x:x_old}).evalf()\n",
        "  return x_new\n",
        "f = input('Nhap ham 1 bien (f): ')     \n",
        "var = input('Nhap ten bien tuong ung (x): ')\n",
        "var0 = float(input('Nhap gia tri khoi dau cho bien x: '))\n",
        "try:\n",
        "  f = sympify(f)\n",
        "except SympifyError:\n",
        "  print('Ham nhap khong hop le!')\n",
        "else:\n",
        "  var = Symbol(var)         \n",
        "  d = Derivative(f, var).doit()         \n",
        "  var_max = grad_ascent(var0, d, var) \n",
        "  if var_max:               \n",
        "    print('{0}: {1}'.format(var.name, var_max))             \n",
        "    print('Maximum value: {0}'.format(f.subs({var:var_max})))"
      ],
      "metadata": {
        "id": "uoYqHHrSMq66",
        "outputId": "6b3c31b4-2160-4014-f394-4bc9fe31d992",
        "colab": {
          "base_uri": "https://localhost:8080/"
        }
      },
      "execution_count": 6,
      "outputs": [
        {
          "output_type": "stream",
          "name": "stdout",
          "text": [
            "Nhap ham 1 bien (f): E**x\n",
            "Nhap ten bien tuong ung (x): x\n",
            "Nhap gia tri khoi dau cho bien x: 0.1\n",
            "Khong the tiep tuc, phuong trinh exp(x)=0 vo nghiem\n"
          ]
        }
      ]
    },
    {
      "cell_type": "markdown",
      "source": [
        "# BT CHUONG 6"
      ],
      "metadata": {
        "id": "-o6DSjWnNCIK"
      }
    },
    {
      "cell_type": "code",
      "source": [
        "def an_exp_an(n):\n",
        "  if n == 1:\n",
        "    return 4\n",
        "  else:\n",
        "    return 1.0/2 * (an_exp_an(n-1)+8)\n",
        "an_exp_an(50)"
      ],
      "metadata": {
        "id": "8VIWYUieNHHV",
        "outputId": "521eec7f-b7c4-4b02-a483-aa8e9da95ac9",
        "colab": {
          "base_uri": "https://localhost:8080/"
        }
      },
      "execution_count": 7,
      "outputs": [
        {
          "output_type": "execute_result",
          "data": {
            "text/plain": [
              "7.999999999999993"
            ]
          },
          "metadata": {},
          "execution_count": 7
        }
      ]
    },
    {
      "cell_type": "code",
      "source": [
        "def an_exp_an(n):\n",
        "  if n == 1:\n",
        "    return 5\n",
        "  else:\n",
        "    return 2-1/(2-an_exp_an(n-1))\n",
        "an_exp_an(50)"
      ],
      "metadata": {
        "id": "S_-w-oH6NKIP",
        "outputId": "6d84fe9c-ec53-4cfa-d1f1-91e8e143152f",
        "colab": {
          "base_uri": "https://localhost:8080/"
        }
      },
      "execution_count": 8,
      "outputs": [
        {
          "output_type": "execute_result",
          "data": {
            "text/plain": [
              "2.3333333333333335"
            ]
          },
          "metadata": {},
          "execution_count": 8
        }
      ]
    },
    {
      "cell_type": "code",
      "source": [
        "from sympy import pi, sin, exp\n",
        "def an_exp_an(n):\n",
        "  if n == 1:\n",
        "    return 3*pi/2\n",
        "  else:\n",
        "    return an_exp_an(n-1)+sin(an_exp_an(n-1))/exp(an_exp_an(n-1))\n",
        "an_exp_an(5)"
      ],
      "metadata": {
        "id": "QTtgHcSqNMyS",
        "outputId": "45a1c345-d672-4ec7-83d3-0bb93b066201",
        "colab": {
          "base_uri": "https://localhost:8080/",
          "height": 266
        }
      },
      "execution_count": 9,
      "outputs": [
        {
          "output_type": "execute_result",
          "data": {
            "text/plain": [
              "-exp(-3*pi/2 + exp(-3*pi/2) + exp(-3*pi/2 + exp(-3*pi/2))*cos(exp(-3*pi/2)) + exp(-3*pi/2 + exp(-3*pi/2) + exp(-3*pi/2 + exp(-3*pi/2))*cos(exp(-3*pi/2)))*cos(exp(-3*pi/2) + exp(-3*pi/2 + exp(-3*pi/2))*cos(exp(-3*pi/2))))*cos(exp(-3*pi/2) + exp(-3*pi/2 + exp(-3*pi/2))*cos(exp(-3*pi/2)) + exp(-3*pi/2 + exp(-3*pi/2) + exp(-3*pi/2 + exp(-3*pi/2))*cos(exp(-3*pi/2)))*cos(exp(-3*pi/2) + exp(-3*pi/2 + exp(-3*pi/2))*cos(exp(-3*pi/2)))) - exp(-3*pi/2 + exp(-3*pi/2) + exp(-3*pi/2 + exp(-3*pi/2))*cos(exp(-3*pi/2)))*cos(exp(-3*pi/2) + exp(-3*pi/2 + exp(-3*pi/2))*cos(exp(-3*pi/2))) - exp(-3*pi/2 + exp(-3*pi/2))*cos(exp(-3*pi/2)) - exp(-3*pi/2) + 3*pi/2"
            ],
            "text/latex": "$\\displaystyle - \\frac{\\cos{\\left(e^{- \\frac{3 \\pi}{2}} + \\frac{\\cos{\\left(e^{- \\frac{3 \\pi}{2}} \\right)}}{e^{- \\frac{1}{e^{\\frac{3 \\pi}{2}}} + \\frac{3 \\pi}{2}}} + \\frac{\\cos{\\left(e^{- \\frac{3 \\pi}{2}} + \\frac{\\cos{\\left(e^{- \\frac{3 \\pi}{2}} \\right)}}{e^{- \\frac{1}{e^{\\frac{3 \\pi}{2}}} + \\frac{3 \\pi}{2}}} \\right)}}{e^{- \\frac{\\cos{\\left(e^{- \\frac{3 \\pi}{2}} \\right)}}{e^{- \\frac{1}{e^{\\frac{3 \\pi}{2}}} + \\frac{3 \\pi}{2}}} - e^{- \\frac{3 \\pi}{2}} + \\frac{3 \\pi}{2}}} \\right)}}{e^{- \\frac{\\cos{\\left(e^{- \\frac{3 \\pi}{2}} + \\frac{\\cos{\\left(e^{- \\frac{3 \\pi}{2}} \\right)}}{e^{- \\frac{1}{e^{\\frac{3 \\pi}{2}}} + \\frac{3 \\pi}{2}}} \\right)}}{e^{- \\frac{\\cos{\\left(e^{- \\frac{3 \\pi}{2}} \\right)}}{e^{- \\frac{1}{e^{\\frac{3 \\pi}{2}}} + \\frac{3 \\pi}{2}}} - e^{- \\frac{3 \\pi}{2}} + \\frac{3 \\pi}{2}}} - \\frac{\\cos{\\left(e^{- \\frac{3 \\pi}{2}} \\right)}}{e^{- \\frac{1}{e^{\\frac{3 \\pi}{2}}} + \\frac{3 \\pi}{2}}} - e^{- \\frac{3 \\pi}{2}} + \\frac{3 \\pi}{2}}} - \\frac{\\cos{\\left(e^{- \\frac{3 \\pi}{2}} + \\frac{\\cos{\\left(e^{- \\frac{3 \\pi}{2}} \\right)}}{e^{- \\frac{1}{e^{\\frac{3 \\pi}{2}}} + \\frac{3 \\pi}{2}}} \\right)}}{e^{- \\frac{\\cos{\\left(e^{- \\frac{3 \\pi}{2}} \\right)}}{e^{- \\frac{1}{e^{\\frac{3 \\pi}{2}}} + \\frac{3 \\pi}{2}}} - e^{- \\frac{3 \\pi}{2}} + \\frac{3 \\pi}{2}}} - \\frac{\\cos{\\left(e^{- \\frac{3 \\pi}{2}} \\right)}}{e^{- \\frac{1}{e^{\\frac{3 \\pi}{2}}} + \\frac{3 \\pi}{2}}} - e^{- \\frac{3 \\pi}{2}} + \\frac{3 \\pi}{2}$"
          },
          "metadata": {},
          "execution_count": 9
        }
      ]
    }
  ]
}
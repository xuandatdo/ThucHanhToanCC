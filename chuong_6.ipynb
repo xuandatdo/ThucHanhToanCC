{
  "nbformat": 4,
  "nbformat_minor": 0,
  "metadata": {
    "colab": {
      "name": "chuong 6",
      "provenance": [],
      "authorship_tag": "ABX9TyPWbbAJOMunRQ5ZeazmM4qt",
      "include_colab_link": true
    },
    "kernelspec": {
      "name": "python3",
      "display_name": "Python 3"
    },
    "language_info": {
      "name": "python"
    }
  },
  "cells": [
    {
      "cell_type": "markdown",
      "metadata": {
        "id": "view-in-github",
        "colab_type": "text"
      },
      "source": [
        "<a href=\"https://colab.research.google.com/github/xuandatdo/ThucHanhToanCC/blob/main/chuong_6.ipynb\" target=\"_parent\"><img src=\"https://colab.research.google.com/assets/colab-badge.svg\" alt=\"Open In Colab\"/></a>"
      ]
    },
    {
      "cell_type": "markdown",
      "source": [
        "# **TT1**"
      ],
      "metadata": {
        "id": "hbmFszb2k8nZ"
      }
    },
    {
      "cell_type": "code",
      "execution_count": 1,
      "metadata": {
        "colab": {
          "base_uri": "https://localhost:8080/"
        },
        "id": "x7xDRSuWk7WJ",
        "outputId": "a8917123-e3e5-4e42-b8fb-9de4354238f6"
      },
      "outputs": [
        {
          "output_type": "execute_result",
          "data": {
            "text/plain": [
              "6"
            ]
          },
          "metadata": {},
          "execution_count": 1
        }
      ],
      "source": [
        "import math\n",
        "def giaithua(n):\n",
        "  if(n==0):\n",
        "    return 1\n",
        "  else:\n",
        "    return n*giaithua(n-1)\n",
        "giaithua(3)"
      ]
    },
    {
      "cell_type": "code",
      "source": [
        "giaithua(4)"
      ],
      "metadata": {
        "colab": {
          "base_uri": "https://localhost:8080/"
        },
        "id": "dN56LJNWl3wb",
        "outputId": "21667af6-8e59-4530-c48e-53689e2e0a1e"
      },
      "execution_count": 2,
      "outputs": [
        {
          "output_type": "execute_result",
          "data": {
            "text/plain": [
              "24"
            ]
          },
          "metadata": {},
          "execution_count": 2
        }
      ]
    },
    {
      "cell_type": "markdown",
      "source": [
        "# **TT2**"
      ],
      "metadata": {
        "id": "jqnjIc9Nl7c2"
      }
    },
    {
      "cell_type": "code",
      "source": [
        "def fibo(n):\n",
        "  if n == 0:\n",
        "    return 0\n",
        "  if n == 1:\n",
        "    return 1\n",
        "  return fibo(n-1) + fibo(n-2) "
      ],
      "metadata": {
        "id": "bsg3QH9vl8fG"
      },
      "execution_count": 3,
      "outputs": []
    },
    {
      "cell_type": "code",
      "source": [
        "fibo(4)"
      ],
      "metadata": {
        "colab": {
          "base_uri": "https://localhost:8080/"
        },
        "id": "9BuGR1vumRHf",
        "outputId": "2fd5e9bd-8e3a-4d05-a03d-bda5beec41e3"
      },
      "execution_count": 4,
      "outputs": [
        {
          "output_type": "execute_result",
          "data": {
            "text/plain": [
              "3"
            ]
          },
          "metadata": {},
          "execution_count": 4
        }
      ]
    },
    {
      "cell_type": "code",
      "source": [
        "fibo(5)"
      ],
      "metadata": {
        "colab": {
          "base_uri": "https://localhost:8080/"
        },
        "id": "clnWQP9wmUVQ",
        "outputId": "aca517fe-ae70-4520-e7ee-15713de633f7"
      },
      "execution_count": 5,
      "outputs": [
        {
          "output_type": "execute_result",
          "data": {
            "text/plain": [
              "5"
            ]
          },
          "metadata": {},
          "execution_count": 5
        }
      ]
    },
    {
      "cell_type": "code",
      "source": [
        "fibo(6)"
      ],
      "metadata": {
        "colab": {
          "base_uri": "https://localhost:8080/"
        },
        "id": "kC7eaauBmWpQ",
        "outputId": "e18d87f5-3c92-4f48-823e-f3a7232026cf"
      },
      "execution_count": 6,
      "outputs": [
        {
          "output_type": "execute_result",
          "data": {
            "text/plain": [
              "8"
            ]
          },
          "metadata": {},
          "execution_count": 6
        }
      ]
    },
    {
      "cell_type": "markdown",
      "source": [
        "# **TT3**"
      ],
      "metadata": {
        "id": "qv6IWUR6mZf5"
      }
    },
    {
      "cell_type": "code",
      "source": [
        "def an_exp_an(n):\n",
        "  if n == 1: \n",
        "    return 1.0/2 \n",
        "  else:\n",
        "    return an_exp_an(n-1)**an_exp_an(n-1) "
      ],
      "metadata": {
        "id": "tkzWUctDmcep"
      },
      "execution_count": 7,
      "outputs": []
    },
    {
      "cell_type": "code",
      "source": [
        "an_exp_an(1) "
      ],
      "metadata": {
        "colab": {
          "base_uri": "https://localhost:8080/"
        },
        "id": "OEXRQJzOmn2x",
        "outputId": "2825e16f-699c-4ba8-fa08-e2d70697d713"
      },
      "execution_count": 8,
      "outputs": [
        {
          "output_type": "execute_result",
          "data": {
            "text/plain": [
              "0.5"
            ]
          },
          "metadata": {},
          "execution_count": 8
        }
      ]
    },
    {
      "cell_type": "code",
      "source": [
        "an_exp_an(2) "
      ],
      "metadata": {
        "colab": {
          "base_uri": "https://localhost:8080/"
        },
        "id": "r6Wv7VhumpxQ",
        "outputId": "ad8fb697-8133-4240-d1dd-6594fcda8b1c"
      },
      "execution_count": 9,
      "outputs": [
        {
          "output_type": "execute_result",
          "data": {
            "text/plain": [
              "0.7071067811865476"
            ]
          },
          "metadata": {},
          "execution_count": 9
        }
      ]
    },
    {
      "cell_type": "code",
      "source": [
        "an_exp_an(3) "
      ],
      "metadata": {
        "colab": {
          "base_uri": "https://localhost:8080/"
        },
        "id": "xSMxBVmmmryD",
        "outputId": "5fb27f98-306a-40be-813c-e1b0473e045e"
      },
      "execution_count": 10,
      "outputs": [
        {
          "output_type": "execute_result",
          "data": {
            "text/plain": [
              "0.7826540273556803"
            ]
          },
          "metadata": {},
          "execution_count": 10
        }
      ]
    },
    {
      "cell_type": "code",
      "source": [
        "an_exp_an(4) "
      ],
      "metadata": {
        "colab": {
          "base_uri": "https://localhost:8080/"
        },
        "id": "07cUPmSVmtxG",
        "outputId": "25f207a7-a1ef-4326-9271-3bc73608a6cf"
      },
      "execution_count": 11,
      "outputs": [
        {
          "output_type": "execute_result",
          "data": {
            "text/plain": [
              "0.8254713306050621"
            ]
          },
          "metadata": {},
          "execution_count": 11
        }
      ]
    },
    {
      "cell_type": "code",
      "source": [
        "an_exp_an(5) "
      ],
      "metadata": {
        "colab": {
          "base_uri": "https://localhost:8080/"
        },
        "id": "rC45l32GmvuH",
        "outputId": "7afaf37e-1f64-40d1-82e8-66586ed67405"
      },
      "execution_count": 12,
      "outputs": [
        {
          "output_type": "execute_result",
          "data": {
            "text/plain": [
              "0.8535714578150946"
            ]
          },
          "metadata": {},
          "execution_count": 12
        }
      ]
    },
    {
      "cell_type": "code",
      "source": [
        "an_exp_an(10) "
      ],
      "metadata": {
        "colab": {
          "base_uri": "https://localhost:8080/"
        },
        "id": "KaetI3sHmxTX",
        "outputId": "6f643a49-4d41-4686-dfa2-41eb6c0351af"
      },
      "execution_count": 13,
      "outputs": [
        {
          "output_type": "execute_result",
          "data": {
            "text/plain": [
              "0.9176411981636667"
            ]
          },
          "metadata": {},
          "execution_count": 13
        }
      ]
    },
    {
      "cell_type": "markdown",
      "source": [
        "# **TT4**"
      ],
      "metadata": {
        "id": "EakD9BiUm9-h"
      }
    },
    {
      "cell_type": "code",
      "source": [
        "def bai4(n): \n",
        "  if n==1: \n",
        "    return 4 \n",
        "  else: \n",
        "    return 5.0/(6-bai4(n-1)) "
      ],
      "metadata": {
        "id": "s9Fp2Yxsm_G3"
      },
      "execution_count": 14,
      "outputs": []
    },
    {
      "cell_type": "code",
      "source": [
        "bai4(5) "
      ],
      "metadata": {
        "colab": {
          "base_uri": "https://localhost:8080/"
        },
        "id": "a_QLO7Y_nMS3",
        "outputId": "6f671818-9e22-4e81-a33f-5890ad4fbd35"
      },
      "execution_count": 15,
      "outputs": [
        {
          "output_type": "execute_result",
          "data": {
            "text/plain": [
              "1.019108280254777"
            ]
          },
          "metadata": {},
          "execution_count": 15
        }
      ]
    },
    {
      "cell_type": "code",
      "source": [
        "bai4(6) "
      ],
      "metadata": {
        "colab": {
          "base_uri": "https://localhost:8080/"
        },
        "id": "G03je9o7nOc4",
        "outputId": "718ea59a-9d5f-46a3-aba3-117650a6745a"
      },
      "execution_count": 16,
      "outputs": [
        {
          "output_type": "execute_result",
          "data": {
            "text/plain": [
              "1.0038363171355498"
            ]
          },
          "metadata": {},
          "execution_count": 16
        }
      ]
    },
    {
      "cell_type": "code",
      "source": [
        "bai4(7) "
      ],
      "metadata": {
        "colab": {
          "base_uri": "https://localhost:8080/"
        },
        "id": "9C109Kh4nQhY",
        "outputId": "fab9ba46-32ab-49a3-9c53-71641ffb17ba"
      },
      "execution_count": 17,
      "outputs": [
        {
          "output_type": "execute_result",
          "data": {
            "text/plain": [
              "1.000767852572306"
            ]
          },
          "metadata": {},
          "execution_count": 17
        }
      ]
    },
    {
      "cell_type": "code",
      "source": [
        "bai4(10) "
      ],
      "metadata": {
        "colab": {
          "base_uri": "https://localhost:8080/"
        },
        "id": "hifF88lvnS1L",
        "outputId": "f871c12f-722b-4106-b569-90d5b880ff0d"
      },
      "execution_count": 18,
      "outputs": [
        {
          "output_type": "execute_result",
          "data": {
            "text/plain": [
              "1.0000061439905628"
            ]
          },
          "metadata": {},
          "execution_count": 18
        }
      ]
    },
    {
      "cell_type": "code",
      "source": [
        "bai4(100) "
      ],
      "metadata": {
        "colab": {
          "base_uri": "https://localhost:8080/"
        },
        "id": "yePdyZ6CnUf-",
        "outputId": "7548e551-f7db-42d3-b497-32c93bec7bef"
      },
      "execution_count": 19,
      "outputs": [
        {
          "output_type": "execute_result",
          "data": {
            "text/plain": [
              "1.0"
            ]
          },
          "metadata": {},
          "execution_count": 19
        }
      ]
    },
    {
      "cell_type": "markdown",
      "source": [
        "# **TT5**"
      ],
      "metadata": {
        "id": "n-pt1sxqnXiB"
      }
    },
    {
      "cell_type": "code",
      "source": [
        "def tisoFibo(n): \n",
        "  if n==1: \n",
        "    return 1 \n",
        "  else: \n",
        "    return 1.0 + 1.0/tisoFibo(n-1) "
      ],
      "metadata": {
        "id": "ARExUtmYnYhd"
      },
      "execution_count": 20,
      "outputs": []
    },
    {
      "cell_type": "code",
      "source": [
        "for i in range(1, 11): \n",
        "  print (i, tisoFibo(i)) "
      ],
      "metadata": {
        "colab": {
          "base_uri": "https://localhost:8080/"
        },
        "id": "IGW6yjIhnlHA",
        "outputId": "7dd3254a-5697-44ed-e1d5-f3812d807cdd"
      },
      "execution_count": 21,
      "outputs": [
        {
          "output_type": "stream",
          "name": "stdout",
          "text": [
            "1 1\n",
            "2 2.0\n",
            "3 1.5\n",
            "4 1.6666666666666665\n",
            "5 1.6\n",
            "6 1.625\n",
            "7 1.6153846153846154\n",
            "8 1.619047619047619\n",
            "9 1.6176470588235294\n",
            "10 1.6181818181818182\n"
          ]
        }
      ]
    },
    {
      "cell_type": "code",
      "source": [
        "from sympy import Derivative, Symbol, sympify \n",
        "def grad_ascent(x0, ham_f1x, x): \n",
        "  epsilon = 1e-6 \n",
        "  step_size = 1e-4 \n",
        "  x_old = x0 \n",
        "  x_new = x_old + step_size*ham_f1x.subs({x:x_old}).evalf() \n",
        "  while abs(x_old - x_new) > epsilon: \n",
        "     x_old = x_new\n",
        "     x_new = x_old + step_size*ham_f1x.subs({x:x_old}).evalf() \n",
        "  return x_new "
      ],
      "metadata": {
        "id": "04-QRyXhn44V"
      },
      "execution_count": 23,
      "outputs": []
    },
    {
      "cell_type": "code",
      "source": [
        "if __name__ == '__main__': \n",
        "   f = input('Nhap ham 1 bien (f): ')\n",
        "   var = input('Nhap ten bien tuong ung (x): ')\n",
        "   var0 = float(input('Nhap gia tri khoi dau cho bien x: ')) "
      ],
      "metadata": {
        "colab": {
          "base_uri": "https://localhost:8080/"
        },
        "id": "s5QbJg9voadf",
        "outputId": "cd84b740-a952-4ac3-a04f-e0caf8811f65"
      },
      "execution_count": 28,
      "outputs": [
        {
          "name": "stdout",
          "output_type": "stream",
          "text": [
            "Nhap ham 1 bien (f): 25*25*sin(2*theta)/9.8\n",
            "Nhap ten bien tuong ung (x): theta\n",
            "Nhap gia tri khoi dau cho bien x: 0.001\n"
          ]
        }
      ]
    },
    {
      "cell_type": "code",
      "source": [
        "try:\n",
        "  f = sympify(f)  # kiem tra ham \n",
        "except SympifyError:\n",
        "  print('Ham nhap khong hop le!') \n",
        "else:\n",
        "   var = Symbol(var)\n",
        "   d = Derivative(f, var).doit() \n",
        "   var_max = grad_ascent(var0, d, var) \n",
        "   print('{0}: {1}'.format(var.name, var_max)) \n",
        "   print('Maximum value: {0}'.format(f.subs({var:var_max}))) "
      ],
      "metadata": {
        "colab": {
          "base_uri": "https://localhost:8080/"
        },
        "id": "YKo8KD6hosW4",
        "outputId": "2bbd4ff3-6508-4391-d2f3-53de65f6cee1"
      },
      "execution_count": 29,
      "outputs": [
        {
          "output_type": "stream",
          "name": "stdout",
          "text": [
            "theta: 0.785360029379083\n",
            "Maximum value: 63.7755100185965\n"
          ]
        }
      ]
    },
    {
      "cell_type": "code",
      "source": [
        "from sympy import Derivative, Symbol, sympify \n",
        "def grad_ascent(x0, ham_f1x, x): \n",
        "  from sympy import solve, E \n",
        "  if not solve(ham_f1x): \n",
        "     print('Khong the tiep tuc, phuong trinh {0}=0 vo nghiem'.format(ham_f1x))\n",
        "     return "
      ],
      "metadata": {
        "id": "omchvxzjqznF"
      },
      "execution_count": 30,
      "outputs": []
    },
    {
      "cell_type": "code",
      "source": [
        "from sympy import Derivative, Symbol, sympify \n",
        "def grad_ascent(x0, ham_f1x, x): \n",
        "  epsilon = 1e-6 \n",
        "  step_size = 1e-4 \n",
        "  x_old = x0 \n",
        "  x_new = x_old + step_size*ham_f1x.subs({x:x_old}).evalf()\n",
        "  while abs(x_old - x_new) > epsilon: \n",
        "    x_old = x_new \n",
        "    x_new = x_old + step_size*ham_f1x.subs({x:x_old}).evalf() \n",
        "  return x_new "
      ],
      "metadata": {
        "id": "ZsK8RtLprUMz"
      },
      "execution_count": 31,
      "outputs": []
    },
    {
      "cell_type": "code",
      "source": [
        "if __name__ == '__main__': \n",
        "   f= input('Nhap ham 1 bien (f): ') \n",
        "   var = input('Nhap ten bien tuong ung (x): ') \n",
        "   var0 = float(input('Nhap gia tri khoi dau cho bien x: ')) "
      ],
      "metadata": {
        "colab": {
          "base_uri": "https://localhost:8080/"
        },
        "id": "_usWLLnBr9U6",
        "outputId": "673cd15d-247a-4e8d-aaca-76b33dd5b8af"
      },
      "execution_count": 32,
      "outputs": [
        {
          "name": "stdout",
          "output_type": "stream",
          "text": [
            "Nhap ham 1 bien (f): log(x)\n",
            "Nhap ten bien tuong ung (x): x\n",
            "Nhap gia tri khoi dau cho bien x: 0.1\n"
          ]
        }
      ]
    },
    {
      "cell_type": "code",
      "source": [
        "try: \n",
        "  f = sympify(f)  # kiem tra ham \n",
        "except SympifyError: \n",
        "  print('Ham nhap khong hop le!') \n",
        "else: \n",
        "  var = Symbol(var) \n",
        "  d = Derivative(f, var).doit() \n",
        "  var_max = grad_ascent(var0, d, var)   # thêm lệnh if (nằm trong khối lệnh else) để kiểm tra giá trị var_max trước khi kết luận: \n",
        "if var_max:\n",
        "   print('{0}: {1}'.format(var.name, var_max)) \n",
        "   print('Maximum value: {0}'.format(f.subs({var:var_max}))) "
      ],
      "metadata": {
        "id": "WcBNbLAXsO1y"
      },
      "execution_count": null,
      "outputs": []
    }
  ]
}
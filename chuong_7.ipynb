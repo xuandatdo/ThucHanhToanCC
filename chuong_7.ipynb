{
  "nbformat": 4,
  "nbformat_minor": 0,
  "metadata": {
    "colab": {
      "name": "chuong 7",
      "provenance": [],
      "authorship_tag": "ABX9TyOgr21qEMzwd6Dz1gERwZQb",
      "include_colab_link": true
    },
    "kernelspec": {
      "name": "python3",
      "display_name": "Python 3"
    },
    "language_info": {
      "name": "python"
    }
  },
  "cells": [
    {
      "cell_type": "markdown",
      "metadata": {
        "id": "view-in-github",
        "colab_type": "text"
      },
      "source": [
        "<a href=\"https://colab.research.google.com/github/xuandatdo/ThucHanhToanCC/blob/main/chuong_7.ipynb\" target=\"_parent\"><img src=\"https://colab.research.google.com/assets/colab-badge.svg\" alt=\"Open In Colab\"/></a>"
      ]
    },
    {
      "cell_type": "markdown",
      "source": [
        "#TT1"
      ],
      "metadata": {
        "id": "qjspKGkBTR6B"
      }
    },
    {
      "cell_type": "code",
      "execution_count": 10,
      "metadata": {
        "colab": {
          "base_uri": "https://localhost:8080/",
          "height": 38
        },
        "id": "Pohxk7PVTPAF",
        "outputId": "b43ad5be-a087-434e-b1ec-e76cc7c659a1"
      },
      "outputs": [
        {
          "output_type": "execute_result",
          "data": {
            "text/plain": [
              "oo"
            ],
            "text/latex": "$\\displaystyle \\infty$"
          },
          "metadata": {},
          "execution_count": 10
        }
      ],
      "source": [
        "from sympy import Symbol, Integral\n",
        "x = Symbol('x') \n",
        "f = 1/x \n",
        "unbound1 = Integral(f, (x, 0, 2)) \n",
        "unbound1.doit() "
      ]
    },
    {
      "cell_type": "markdown",
      "source": [
        "#TT2"
      ],
      "metadata": {
        "id": "iD1yU4lMUCVi"
      }
    },
    {
      "cell_type": "code",
      "source": [
        "from sympy import Symbol, Integral \n",
        "x = Symbol('x') \n",
        "f = 1.0/x**2 \n",
        "unbound2 = Integral(f, (x, -1, 1)) \n",
        "unbound2.doit() "
      ],
      "metadata": {
        "colab": {
          "base_uri": "https://localhost:8080/",
          "height": 38
        },
        "id": "malrmg5FUD8v",
        "outputId": "53257735-d273-451c-e6b4-c9ed5109ca21"
      },
      "execution_count": 2,
      "outputs": [
        {
          "output_type": "execute_result",
          "data": {
            "text/plain": [
              "oo"
            ],
            "text/latex": "$\\displaystyle \\infty$"
          },
          "metadata": {},
          "execution_count": 2
        }
      ]
    },
    {
      "cell_type": "code",
      "source": [
        "unbound2"
      ],
      "metadata": {
        "colab": {
          "base_uri": "https://localhost:8080/",
          "height": 81
        },
        "id": "0dM2fDDbXX6W",
        "outputId": "98ecac52-6ce7-411c-ce42-2dacd115c84b"
      },
      "execution_count": 12,
      "outputs": [
        {
          "output_type": "execute_result",
          "data": {
            "text/plain": [
              "Integral(1.0/x**2, (x, -1, 1))"
            ],
            "text/latex": "$\\displaystyle \\int\\limits_{-1}^{1} \\frac{1.0}{x^{2}}\\, dx$"
          },
          "metadata": {},
          "execution_count": 12
        }
      ]
    },
    {
      "cell_type": "markdown",
      "source": [
        "#TT3"
      ],
      "metadata": {
        "id": "_zR_2OrgUQNJ"
      }
    },
    {
      "cell_type": "code",
      "source": [
        "from sympy import Symbol, Integral, Abs \n",
        "x = Symbol('x') \n",
        "f = Abs(x) \n",
        "discontinous1 = Integral(f, (x, -1, 2)) \n",
        "discontinous1"
      ],
      "metadata": {
        "colab": {
          "base_uri": "https://localhost:8080/",
          "height": 81
        },
        "id": "EgXHN8MyUR-I",
        "outputId": "a106a41a-479e-4f15-9e9e-71db2665a563"
      },
      "execution_count": 15,
      "outputs": [
        {
          "output_type": "execute_result",
          "data": {
            "text/plain": [
              "Integral(Abs(x), (x, -1, 2))"
            ],
            "text/latex": "$\\displaystyle \\int\\limits_{-1}^{2} \\left|{x}\\right|\\, dx$"
          },
          "metadata": {},
          "execution_count": 15
        }
      ]
    },
    {
      "cell_type": "code",
      "source": [
        "discontinous1.doit() "
      ],
      "metadata": {
        "colab": {
          "base_uri": "https://localhost:8080/",
          "height": 51
        },
        "id": "oWyGG775Xi2F",
        "outputId": "e4938ede-04d9-4280-d95e-a7e8f2f410a7"
      },
      "execution_count": 16,
      "outputs": [
        {
          "output_type": "execute_result",
          "data": {
            "text/plain": [
              "5/2"
            ],
            "text/latex": "$\\displaystyle \\frac{5}{2}$"
          },
          "metadata": {},
          "execution_count": 16
        }
      ]
    },
    {
      "cell_type": "markdown",
      "source": [
        "#TT4"
      ],
      "metadata": {
        "id": "mhf93SIgUbtC"
      }
    },
    {
      "cell_type": "code",
      "source": [
        "from sympy import Symbol, Integral \n",
        "x = Symbol('x') \n",
        "f = x**(0.5) \n",
        "undef1 = Integral(f, (x, -1, 1)) \n",
        "undef1.doit() "
      ],
      "metadata": {
        "colab": {
          "base_uri": "https://localhost:8080/",
          "height": 39
        },
        "id": "c09u2ExoUhlZ",
        "outputId": "c3299089-1502-4157-fef2-6031cbb24f24"
      },
      "execution_count": 4,
      "outputs": [
        {
          "output_type": "execute_result",
          "data": {
            "text/plain": [
              "0.666666666666667 + 0.666666666666667*I"
            ],
            "text/latex": "$\\displaystyle 0.666666666666667 + 0.666666666666667 i$"
          },
          "metadata": {},
          "execution_count": 4
        }
      ]
    },
    {
      "cell_type": "code",
      "source": [
        "undef1"
      ],
      "metadata": {
        "colab": {
          "base_uri": "https://localhost:8080/",
          "height": 81
        },
        "id": "ty6rd97_XuaN",
        "outputId": "6c25dac7-891a-4012-c8ff-21d4c2e38f32"
      },
      "execution_count": 17,
      "outputs": [
        {
          "output_type": "execute_result",
          "data": {
            "text/plain": [
              "Integral(x**0.5, (x, -1, 1))"
            ],
            "text/latex": "$\\displaystyle \\int\\limits_{-1}^{1} x^{0.5}\\, dx$"
          },
          "metadata": {},
          "execution_count": 17
        }
      ]
    },
    {
      "cell_type": "markdown",
      "source": [
        "#TT5"
      ],
      "metadata": {
        "id": "JrOU0UsRUsPS"
      }
    },
    {
      "cell_type": "code",
      "source": [
        "from scipy import integrate\n",
        "import numpy as np\n",
        "y = np.array([0.0, 4.1, 8.9, 8.5, 6.7, 4.3, 2.5, 1.2,0.2]) \n",
        "x = np.arange(0,9) \n",
        "integrate.simps(y, x)"
      ],
      "metadata": {
        "colab": {
          "base_uri": "https://localhost:8080/"
        },
        "id": "1kdxSwxNUtk2",
        "outputId": "316341b4-2423-44fe-ea60-8bbfaf227f76"
      },
      "execution_count": 21,
      "outputs": [
        {
          "output_type": "execute_result",
          "data": {
            "text/plain": [
              "36.26666666666666"
            ]
          },
          "metadata": {},
          "execution_count": 21
        }
      ]
    },
    {
      "cell_type": "code",
      "source": [
        "x"
      ],
      "metadata": {
        "colab": {
          "base_uri": "https://localhost:8080/"
        },
        "id": "vkiHU5UmeBvF",
        "outputId": "1b8af479-d866-4c18-b87d-a59aec2e08f8"
      },
      "execution_count": 23,
      "outputs": [
        {
          "output_type": "execute_result",
          "data": {
            "text/plain": [
              "array([0, 1, 2, 3, 4, 5, 6, 7, 8])"
            ]
          },
          "metadata": {},
          "execution_count": 23
        }
      ]
    },
    {
      "cell_type": "code",
      "source": [
        "S = 2*integrate.simps(y, x)\n",
        "S"
      ],
      "metadata": {
        "colab": {
          "base_uri": "https://localhost:8080/"
        },
        "id": "4h598GniVC2R",
        "outputId": "ac2a0b28-deba-4816-f037-34f9e918c998"
      },
      "execution_count": 25,
      "outputs": [
        {
          "output_type": "execute_result",
          "data": {
            "text/plain": [
              "72.53333333333332"
            ]
          },
          "metadata": {},
          "execution_count": 25
        }
      ]
    },
    {
      "cell_type": "code",
      "source": [
        "A = 5.5 \n",
        "F = A/S * 60 "
      ],
      "metadata": {
        "id": "nBMR_u3fVE1R"
      },
      "execution_count": 7,
      "outputs": []
    },
    {
      "cell_type": "code",
      "source": [
        "A"
      ],
      "metadata": {
        "colab": {
          "base_uri": "https://localhost:8080/"
        },
        "id": "c_WtbAkueHrZ",
        "outputId": "95e80f39-88b4-4655-f56a-6d614165f097"
      },
      "execution_count": 26,
      "outputs": [
        {
          "output_type": "execute_result",
          "data": {
            "text/plain": [
              "5.5"
            ]
          },
          "metadata": {},
          "execution_count": 26
        }
      ]
    },
    {
      "cell_type": "code",
      "source": [
        "F"
      ],
      "metadata": {
        "colab": {
          "base_uri": "https://localhost:8080/"
        },
        "id": "RIrv6FtMeJMw",
        "outputId": "d8ed3693-41bb-4d3c-8b9b-6e8eb2759ac5"
      },
      "execution_count": 27,
      "outputs": [
        {
          "output_type": "execute_result",
          "data": {
            "text/plain": [
              "4.5496323529411775"
            ]
          },
          "metadata": {},
          "execution_count": 27
        }
      ]
    },
    {
      "cell_type": "markdown",
      "source": [
        "#TT6"
      ],
      "metadata": {
        "id": "YDekyr5DWB1Q"
      }
    },
    {
      "cell_type": "code",
      "source": [
        "from sympy import Symbol, Integral, Derivative, sqrt\n",
        "x = Symbol('x') \n",
        "f = x**(3/2) \n",
        "d1 = Derivative(f,x).doit()\n",
        "d1"
      ],
      "metadata": {
        "colab": {
          "base_uri": "https://localhost:8080/",
          "height": 39
        },
        "id": "n7TRGLaHWDb3",
        "outputId": "a567b7c9-3b3e-4a29-fc54-b7611f02caa0"
      },
      "execution_count": 33,
      "outputs": [
        {
          "output_type": "execute_result",
          "data": {
            "text/plain": [
              "1.5*x**0.5"
            ],
            "text/latex": "$\\displaystyle 1.5 x^{0.5}$"
          },
          "metadata": {},
          "execution_count": 33
        }
      ]
    },
    {
      "cell_type": "code",
      "source": [
        "d2 = sqrt(x**3/2)\n",
        "d3 = "
      ],
      "metadata": {
        "id": "ye1jgVZ3nN6h"
      },
      "execution_count": null,
      "outputs": []
    },
    {
      "cell_type": "markdown",
      "source": [
        "#TT8"
      ],
      "metadata": {
        "id": "e9dNMbOdb6_Q"
      }
    },
    {
      "cell_type": "code",
      "source": [
        "from sympy import difference_delta as dd \n",
        "from sympy.abc import n \n",
        "dd(n*(n+1), n) "
      ],
      "metadata": {
        "colab": {
          "base_uri": "https://localhost:8080/",
          "height": 39
        },
        "id": "EP9delA_WyP5",
        "outputId": "49f5534a-2307-4e85-c523-50012412e3ac"
      },
      "execution_count": 18,
      "outputs": [
        {
          "output_type": "execute_result",
          "data": {
            "text/plain": [
              "2*n + 2"
            ],
            "text/latex": "$\\displaystyle 2 n + 2$"
          },
          "metadata": {},
          "execution_count": 18
        }
      ]
    },
    {
      "cell_type": "code",
      "source": [
        "dd(n*(n+1), n, 2) "
      ],
      "metadata": {
        "colab": {
          "base_uri": "https://localhost:8080/",
          "height": 39
        },
        "id": "AGRojR8zcHeX",
        "outputId": "bed8908a-fc17-4caa-f848-d91a39dc924a"
      },
      "execution_count": 19,
      "outputs": [
        {
          "output_type": "execute_result",
          "data": {
            "text/plain": [
              "4*n + 6"
            ],
            "text/latex": "$\\displaystyle 4 n + 6$"
          },
          "metadata": {},
          "execution_count": 19
        }
      ]
    }
  ]
}
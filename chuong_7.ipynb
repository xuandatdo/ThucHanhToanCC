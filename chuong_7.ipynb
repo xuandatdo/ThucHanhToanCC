{
  "nbformat": 4,
  "nbformat_minor": 0,
  "metadata": {
    "colab": {
      "name": "chuong 7",
      "provenance": [],
      "authorship_tag": "ABX9TyOBH0ptRNtXb65Qk/QqGK+c",
      "include_colab_link": true
    },
    "kernelspec": {
      "name": "python3",
      "display_name": "Python 3"
    },
    "language_info": {
      "name": "python"
    }
  },
  "cells": [
    {
      "cell_type": "markdown",
      "metadata": {
        "id": "view-in-github",
        "colab_type": "text"
      },
      "source": [
        "<a href=\"https://colab.research.google.com/github/xuandatdo/ThucHanhToanCC/blob/main/chuong_7.ipynb\" target=\"_parent\"><img src=\"https://colab.research.google.com/assets/colab-badge.svg\" alt=\"Open In Colab\"/></a>"
      ]
    },
    {
      "cell_type": "markdown",
      "source": [
        "#TT1"
      ],
      "metadata": {
        "id": "qjspKGkBTR6B"
      }
    },
    {
      "cell_type": "code",
      "execution_count": null,
      "metadata": {
        "colab": {
          "base_uri": "https://localhost:8080/",
          "height": 38
        },
        "id": "Pohxk7PVTPAF",
        "outputId": "b43ad5be-a087-434e-b1ec-e76cc7c659a1"
      },
      "outputs": [
        {
          "output_type": "execute_result",
          "data": {
            "text/plain": [
              "oo"
            ],
            "text/latex": "$\\displaystyle \\infty$"
          },
          "metadata": {},
          "execution_count": 10
        }
      ],
      "source": [
        "from sympy import Symbol, Integral\n",
        "x = Symbol('x') \n",
        "f = 1/x \n",
        "unbound1 = Integral(f, (x, 0, 2)) \n",
        "unbound1.doit() "
      ]
    },
    {
      "cell_type": "markdown",
      "source": [
        "#TT2"
      ],
      "metadata": {
        "id": "iD1yU4lMUCVi"
      }
    },
    {
      "cell_type": "code",
      "source": [
        "from sympy import Symbol, Integral \n",
        "x = Symbol('x') \n",
        "f = 1.0/x**2 \n",
        "unbound2 = Integral(f, (x, -1, 1)) \n",
        "unbound2.doit() "
      ],
      "metadata": {
        "colab": {
          "base_uri": "https://localhost:8080/",
          "height": 38
        },
        "id": "malrmg5FUD8v",
        "outputId": "53257735-d273-451c-e6b4-c9ed5109ca21"
      },
      "execution_count": null,
      "outputs": [
        {
          "output_type": "execute_result",
          "data": {
            "text/plain": [
              "oo"
            ],
            "text/latex": "$\\displaystyle \\infty$"
          },
          "metadata": {},
          "execution_count": 2
        }
      ]
    },
    {
      "cell_type": "code",
      "source": [
        "unbound2"
      ],
      "metadata": {
        "colab": {
          "base_uri": "https://localhost:8080/",
          "height": 81
        },
        "id": "0dM2fDDbXX6W",
        "outputId": "98ecac52-6ce7-411c-ce42-2dacd115c84b"
      },
      "execution_count": null,
      "outputs": [
        {
          "output_type": "execute_result",
          "data": {
            "text/plain": [
              "Integral(1.0/x**2, (x, -1, 1))"
            ],
            "text/latex": "$\\displaystyle \\int\\limits_{-1}^{1} \\frac{1.0}{x^{2}}\\, dx$"
          },
          "metadata": {},
          "execution_count": 12
        }
      ]
    },
    {
      "cell_type": "markdown",
      "source": [
        "#TT3"
      ],
      "metadata": {
        "id": "_zR_2OrgUQNJ"
      }
    },
    {
      "cell_type": "code",
      "source": [
        "from sympy import Symbol, Integral, Abs \n",
        "x = Symbol('x') \n",
        "f = Abs(x) \n",
        "discontinous1 = Integral(f, (x, -1, 2)) \n",
        "discontinous1"
      ],
      "metadata": {
        "colab": {
          "base_uri": "https://localhost:8080/",
          "height": 81
        },
        "id": "EgXHN8MyUR-I",
        "outputId": "a106a41a-479e-4f15-9e9e-71db2665a563"
      },
      "execution_count": null,
      "outputs": [
        {
          "output_type": "execute_result",
          "data": {
            "text/plain": [
              "Integral(Abs(x), (x, -1, 2))"
            ],
            "text/latex": "$\\displaystyle \\int\\limits_{-1}^{2} \\left|{x}\\right|\\, dx$"
          },
          "metadata": {},
          "execution_count": 15
        }
      ]
    },
    {
      "cell_type": "code",
      "source": [
        "discontinous1.doit() "
      ],
      "metadata": {
        "colab": {
          "base_uri": "https://localhost:8080/",
          "height": 51
        },
        "id": "oWyGG775Xi2F",
        "outputId": "e4938ede-04d9-4280-d95e-a7e8f2f410a7"
      },
      "execution_count": null,
      "outputs": [
        {
          "output_type": "execute_result",
          "data": {
            "text/plain": [
              "5/2"
            ],
            "text/latex": "$\\displaystyle \\frac{5}{2}$"
          },
          "metadata": {},
          "execution_count": 16
        }
      ]
    },
    {
      "cell_type": "markdown",
      "source": [
        "#TT4"
      ],
      "metadata": {
        "id": "mhf93SIgUbtC"
      }
    },
    {
      "cell_type": "code",
      "source": [
        "from sympy import Symbol, Integral \n",
        "x = Symbol('x') \n",
        "f = x**(0.5) \n",
        "undef1 = Integral(f, (x, -1, 1)) \n",
        "undef1.doit() "
      ],
      "metadata": {
        "colab": {
          "base_uri": "https://localhost:8080/",
          "height": 39
        },
        "id": "c09u2ExoUhlZ",
        "outputId": "c3299089-1502-4157-fef2-6031cbb24f24"
      },
      "execution_count": null,
      "outputs": [
        {
          "output_type": "execute_result",
          "data": {
            "text/plain": [
              "0.666666666666667 + 0.666666666666667*I"
            ],
            "text/latex": "$\\displaystyle 0.666666666666667 + 0.666666666666667 i$"
          },
          "metadata": {},
          "execution_count": 4
        }
      ]
    },
    {
      "cell_type": "code",
      "source": [
        "undef1"
      ],
      "metadata": {
        "colab": {
          "base_uri": "https://localhost:8080/",
          "height": 81
        },
        "id": "ty6rd97_XuaN",
        "outputId": "6c25dac7-891a-4012-c8ff-21d4c2e38f32"
      },
      "execution_count": null,
      "outputs": [
        {
          "output_type": "execute_result",
          "data": {
            "text/plain": [
              "Integral(x**0.5, (x, -1, 1))"
            ],
            "text/latex": "$\\displaystyle \\int\\limits_{-1}^{1} x^{0.5}\\, dx$"
          },
          "metadata": {},
          "execution_count": 17
        }
      ]
    },
    {
      "cell_type": "markdown",
      "source": [
        "#TT5"
      ],
      "metadata": {
        "id": "JrOU0UsRUsPS"
      }
    },
    {
      "cell_type": "code",
      "source": [
        "from scipy import integrate\n",
        "import numpy as np\n",
        "y = np.array([0.0, 4.1, 8.9, 8.5, 6.7, 4.3, 2.5, 1.2,0.2]) \n",
        "x = np.arange(0,9) \n",
        "integrate.simps(y, x)"
      ],
      "metadata": {
        "colab": {
          "base_uri": "https://localhost:8080/"
        },
        "id": "1kdxSwxNUtk2",
        "outputId": "316341b4-2423-44fe-ea60-8bbfaf227f76"
      },
      "execution_count": null,
      "outputs": [
        {
          "output_type": "execute_result",
          "data": {
            "text/plain": [
              "36.26666666666666"
            ]
          },
          "metadata": {},
          "execution_count": 21
        }
      ]
    },
    {
      "cell_type": "code",
      "source": [
        "x"
      ],
      "metadata": {
        "colab": {
          "base_uri": "https://localhost:8080/"
        },
        "id": "vkiHU5UmeBvF",
        "outputId": "1b8af479-d866-4c18-b87d-a59aec2e08f8"
      },
      "execution_count": null,
      "outputs": [
        {
          "output_type": "execute_result",
          "data": {
            "text/plain": [
              "array([0, 1, 2, 3, 4, 5, 6, 7, 8])"
            ]
          },
          "metadata": {},
          "execution_count": 23
        }
      ]
    },
    {
      "cell_type": "code",
      "source": [
        "S = 2*integrate.simps(y, x)\n",
        "S"
      ],
      "metadata": {
        "colab": {
          "base_uri": "https://localhost:8080/"
        },
        "id": "4h598GniVC2R",
        "outputId": "ac2a0b28-deba-4816-f037-34f9e918c998"
      },
      "execution_count": null,
      "outputs": [
        {
          "output_type": "execute_result",
          "data": {
            "text/plain": [
              "72.53333333333332"
            ]
          },
          "metadata": {},
          "execution_count": 25
        }
      ]
    },
    {
      "cell_type": "code",
      "source": [
        "A = 5.5 \n",
        "F = A/S * 60 "
      ],
      "metadata": {
        "id": "nBMR_u3fVE1R"
      },
      "execution_count": null,
      "outputs": []
    },
    {
      "cell_type": "code",
      "source": [
        "A"
      ],
      "metadata": {
        "colab": {
          "base_uri": "https://localhost:8080/"
        },
        "id": "c_WtbAkueHrZ",
        "outputId": "95e80f39-88b4-4655-f56a-6d614165f097"
      },
      "execution_count": null,
      "outputs": [
        {
          "output_type": "execute_result",
          "data": {
            "text/plain": [
              "5.5"
            ]
          },
          "metadata": {},
          "execution_count": 26
        }
      ]
    },
    {
      "cell_type": "code",
      "source": [
        "F"
      ],
      "metadata": {
        "colab": {
          "base_uri": "https://localhost:8080/"
        },
        "id": "RIrv6FtMeJMw",
        "outputId": "d8ed3693-41bb-4d3c-8b9b-6e8eb2759ac5"
      },
      "execution_count": null,
      "outputs": [
        {
          "output_type": "execute_result",
          "data": {
            "text/plain": [
              "4.5496323529411775"
            ]
          },
          "metadata": {},
          "execution_count": 27
        }
      ]
    },
    {
      "cell_type": "markdown",
      "source": [
        "#TT6"
      ],
      "metadata": {
        "id": "YDekyr5DWB1Q"
      }
    },
    {
      "cell_type": "code",
      "source": [
        "from sympy import Symbol, Integral, Derivative, sqrt\n",
        "x = Symbol('x') \n",
        "f = x**(3/2) \n",
        "d1 = Derivative(f,x).doit()\n",
        "d1"
      ],
      "metadata": {
        "colab": {
          "base_uri": "https://localhost:8080/",
          "height": 39
        },
        "id": "n7TRGLaHWDb3",
        "outputId": "a567b7c9-3b3e-4a29-fc54-b7611f02caa0"
      },
      "execution_count": null,
      "outputs": [
        {
          "output_type": "execute_result",
          "data": {
            "text/plain": [
              "1.5*x**0.5"
            ],
            "text/latex": "$\\displaystyle 1.5 x^{0.5}$"
          },
          "metadata": {},
          "execution_count": 33
        }
      ]
    },
    {
      "cell_type": "code",
      "source": [
        "d2 = sqrt(1+d1**2)\n",
        "d3 = Integral(d2, (x, 0, 2))\n",
        "d3"
      ],
      "metadata": {
        "colab": {
          "base_uri": "https://localhost:8080/",
          "height": 79
        },
        "id": "ye1jgVZ3nN6h",
        "outputId": "23244b24-a5f2-466a-965b-541b6c8ddd5c"
      },
      "execution_count": null,
      "outputs": [
        {
          "output_type": "execute_result",
          "data": {
            "text/plain": [
              "Integral(1.5*sqrt(x**1.0 + 0.444444444444444), (x, 0, 2))"
            ],
            "text/latex": "$\\displaystyle \\int\\limits_{0}^{2} 1.5 \\sqrt{x^{1.0} + 0.444444444444444}\\, dx$"
          },
          "metadata": {},
          "execution_count": 35
        }
      ]
    },
    {
      "cell_type": "code",
      "source": [
        "d3.doit()"
      ],
      "metadata": {
        "colab": {
          "base_uri": "https://localhost:8080/",
          "height": 38
        },
        "id": "-GX_0LbVrcCz",
        "outputId": "4c0cec83-06ba-4c7e-a7eb-5c57de33035e"
      },
      "execution_count": null,
      "outputs": [
        {
          "output_type": "execute_result",
          "data": {
            "text/plain": [
              "3.52552395244872"
            ],
            "text/latex": "$\\displaystyle 3.52552395244872$"
          },
          "metadata": {},
          "execution_count": 36
        }
      ]
    },
    {
      "cell_type": "markdown",
      "source": [
        "#TT8"
      ],
      "metadata": {
        "id": "e9dNMbOdb6_Q"
      }
    },
    {
      "cell_type": "code",
      "source": [
        "from sympy import difference_delta as dd \n",
        "from sympy.abc import n \n",
        "dd(n*(n+1), n) "
      ],
      "metadata": {
        "colab": {
          "base_uri": "https://localhost:8080/",
          "height": 39
        },
        "id": "EP9delA_WyP5",
        "outputId": "49f5534a-2307-4e85-c523-50012412e3ac"
      },
      "execution_count": null,
      "outputs": [
        {
          "output_type": "execute_result",
          "data": {
            "text/plain": [
              "2*n + 2"
            ],
            "text/latex": "$\\displaystyle 2 n + 2$"
          },
          "metadata": {},
          "execution_count": 18
        }
      ]
    },
    {
      "cell_type": "code",
      "source": [
        "dd(n*(n+1), n, 2) "
      ],
      "metadata": {
        "colab": {
          "base_uri": "https://localhost:8080/",
          "height": 39
        },
        "id": "AGRojR8zcHeX",
        "outputId": "bed8908a-fc17-4caa-f848-d91a39dc924a"
      },
      "execution_count": null,
      "outputs": [
        {
          "output_type": "execute_result",
          "data": {
            "text/plain": [
              "4*n + 6"
            ],
            "text/latex": "$\\displaystyle 4 n + 6$"
          },
          "metadata": {},
          "execution_count": 19
        }
      ]
    },
    {
      "cell_type": "code",
      "source": [
        "from sympy.abc import n, k  \n",
        "from sympy import limit_seq\n",
        "limit_seq((3*n**3+5*n**2+4)/(5*n**3+200*n**2+400), n) "
      ],
      "metadata": {
        "colab": {
          "base_uri": "https://localhost:8080/",
          "height": 51
        },
        "id": "LK9cB4OZroKP",
        "outputId": "8727bb8b-8d67-4676-d5e3-7da2bccc0e8b"
      },
      "execution_count": 8,
      "outputs": [
        {
          "output_type": "execute_result",
          "data": {
            "text/plain": [
              "3/5"
            ],
            "text/latex": "$\\displaystyle \\frac{3}{5}$"
          },
          "metadata": {},
          "execution_count": 8
        }
      ]
    },
    {
      "cell_type": "code",
      "source": [
        "limit_seq((3*n**3+5*n**2+4)/(5*n**3+200*n**2+400), n) "
      ],
      "metadata": {
        "colab": {
          "base_uri": "https://localhost:8080/",
          "height": 51
        },
        "id": "pV3gAY_3rw3I",
        "outputId": "9a0b3a74-7fc6-46af-f691-a3e8c5ea677d"
      },
      "execution_count": null,
      "outputs": [
        {
          "output_type": "execute_result",
          "data": {
            "text/plain": [
              "3/5"
            ],
            "text/latex": "$\\displaystyle \\frac{3}{5}$"
          },
          "metadata": {},
          "execution_count": 38
        }
      ]
    },
    {
      "cell_type": "code",
      "source": [
        "from sympy import Sum\n",
        "from sympy.abc import n, k, m  \n",
        "limit_seq(Sum(k**2 * Sum(2**m/m,(m,1,k)),(k,1,n))/(2**n*n), n)"
      ],
      "metadata": {
        "colab": {
          "base_uri": "https://localhost:8080/",
          "height": 38
        },
        "id": "uBLg9PGDrzSN",
        "outputId": "b59a399d-35d6-4cd1-bce2-8a0677cf8217"
      },
      "execution_count": 9,
      "outputs": [
        {
          "output_type": "execute_result",
          "data": {
            "text/plain": [
              "4"
            ],
            "text/latex": "$\\displaystyle 4$"
          },
          "metadata": {},
          "execution_count": 9
        }
      ]
    },
    {
      "cell_type": "code",
      "source": [
        "from sympy import series  \n",
        "from sympy import Sum  \n",
        "from sympy.series.limitseq import dominant \n",
        "dominant(n**3+100*n**2+200*n+1, n)"
      ],
      "metadata": {
        "id": "zyfjYq3-JLQ0",
        "outputId": "7a6bce20-195d-4c02-b947-77e6c575a4ed",
        "colab": {
          "base_uri": "https://localhost:8080/",
          "height": 39
        }
      },
      "execution_count": 3,
      "outputs": [
        {
          "output_type": "execute_result",
          "data": {
            "text/plain": [
              "n**3"
            ],
            "text/latex": "$\\displaystyle n^{3}$"
          },
          "metadata": {},
          "execution_count": 3
        }
      ]
    },
    {
      "cell_type": "code",
      "source": [
        "dominant(2**n + Sum(k, (k,0,n)), n)"
      ],
      "metadata": {
        "id": "oh-IxLsHJN21",
        "outputId": "6fdf3f2c-7a6e-4ddf-921c-e50ab9e1d2d7",
        "colab": {
          "base_uri": "https://localhost:8080/",
          "height": 38
        }
      },
      "execution_count": 6,
      "outputs": [
        {
          "output_type": "execute_result",
          "data": {
            "text/plain": [
              "2**n"
            ],
            "text/latex": "$\\displaystyle 2^{n}$"
          },
          "metadata": {},
          "execution_count": 6
        }
      ]
    },
    {
      "cell_type": "code",
      "source": [
        "dominant(n**2 + Sum(k, (k,0,n)), n)"
      ],
      "metadata": {
        "id": "hrsdecrcJpgu"
      },
      "execution_count": 10,
      "outputs": []
    },
    {
      "cell_type": "code",
      "source": [
        "dominant(2*n*3 + Sum(k, (k,0,n)), n)"
      ],
      "metadata": {
        "id": "xsaRQeAZJtUk",
        "outputId": "9b65f1fc-7179-4c27-aafe-e7a33e14b51a",
        "colab": {
          "base_uri": "https://localhost:8080/",
          "height": 67
        }
      },
      "execution_count": 11,
      "outputs": [
        {
          "output_type": "execute_result",
          "data": {
            "text/plain": [
              "Sum(k, (k, 0, n))"
            ],
            "text/latex": "$\\displaystyle \\sum_{k=0}^{n} k$"
          },
          "metadata": {},
          "execution_count": 11
        }
      ]
    },
    {
      "cell_type": "code",
      "source": [
        "dominant(2*n**2 + Sum(k, (k,0,n)), n)"
      ],
      "metadata": {
        "id": "Pw-DJMKcJu7U"
      },
      "execution_count": 12,
      "outputs": []
    },
    {
      "cell_type": "code",
      "source": [
        "dominant(n**3 + Sum(k, (k,0,n)), n)"
      ],
      "metadata": {
        "id": "yJ5uzlz4JwzY",
        "outputId": "9d711a4e-a2b5-4751-f837-46aaf4bc2452",
        "colab": {
          "base_uri": "https://localhost:8080/",
          "height": 39
        }
      },
      "execution_count": 13,
      "outputs": [
        {
          "output_type": "execute_result",
          "data": {
            "text/plain": [
              "n**3"
            ],
            "text/latex": "$\\displaystyle n^{3}$"
          },
          "metadata": {},
          "execution_count": 13
        }
      ]
    },
    {
      "cell_type": "code",
      "source": [
        "dominant(2*n**3 + Sum(k, (k,0,n)), n)"
      ],
      "metadata": {
        "id": "sDZzbpIzJyeH",
        "outputId": "ac6faccc-78b7-48dd-c250-d5e473e5bf00",
        "colab": {
          "base_uri": "https://localhost:8080/",
          "height": 39
        }
      },
      "execution_count": 14,
      "outputs": [
        {
          "output_type": "execute_result",
          "data": {
            "text/plain": [
              "2*n**3"
            ],
            "text/latex": "$\\displaystyle 2 n^{3}$"
          },
          "metadata": {},
          "execution_count": 14
        }
      ]
    },
    {
      "cell_type": "markdown",
      "source": [
        "#TT9"
      ],
      "metadata": {
        "id": "PgYF-CfxJ1BW"
      }
    },
    {
      "cell_type": "code",
      "source": [
        "from sympy import Sum  \n",
        "from sympy.abc import n, k  \n",
        "S = Sum(k, (k, 0, n))\n",
        "S"
      ],
      "metadata": {
        "id": "5gjCGcjqJ2zZ",
        "outputId": "7b3bbff7-9eb9-4a11-d8f5-06a90a188c83",
        "colab": {
          "base_uri": "https://localhost:8080/",
          "height": 67
        }
      },
      "execution_count": 15,
      "outputs": [
        {
          "output_type": "execute_result",
          "data": {
            "text/plain": [
              "Sum(k, (k, 0, n))"
            ],
            "text/latex": "$\\displaystyle \\sum_{k=0}^{n} k$"
          },
          "metadata": {},
          "execution_count": 15
        }
      ]
    },
    {
      "cell_type": "code",
      "source": [
        "from sympy import limit_seq  \n",
        "limit_seq(S, n)"
      ],
      "metadata": {
        "id": "W9rKNrQ-J4uu"
      },
      "execution_count": null,
      "outputs": []
    },
    {
      "cell_type": "code",
      "source": [
        "from sympy import Symbol, cos, series  \n",
        "x = Symbol('x')  \n",
        "S1 = series(cos(x), x)  \n",
        "S1"
      ],
      "metadata": {
        "id": "Dx5gyKFPJ6Jl",
        "outputId": "93c73bd3-ef75-4943-98a0-bac05a28bfb9",
        "colab": {
          "base_uri": "https://localhost:8080/",
          "height": 54
        }
      },
      "execution_count": 16,
      "outputs": [
        {
          "output_type": "execute_result",
          "data": {
            "text/plain": [
              "1 - x**2/2 + x**4/24 + O(x**6)"
            ],
            "text/latex": "$\\displaystyle 1 - \\frac{x^{2}}{2} + \\frac{x^{4}}{24} + O\\left(x^{6}\\right)$"
          },
          "metadata": {},
          "execution_count": 16
        }
      ]
    },
    {
      "cell_type": "code",
      "source": [
        "from sympy.abc import n  \n",
        "e = (1+1/n)**n  \n",
        "print (round(e.subs(n, 100).evalf(),10))"
      ],
      "metadata": {
        "id": "gdxSDi1OJ8QT",
        "outputId": "6cf149ad-bede-45e8-e929-16ad4a29afa5",
        "colab": {
          "base_uri": "https://localhost:8080/"
        }
      },
      "execution_count": 17,
      "outputs": [
        {
          "output_type": "stream",
          "name": "stdout",
          "text": [
            "2.7048138294\n"
          ]
        }
      ]
    },
    {
      "cell_type": "markdown",
      "source": [
        "### **BT CHUONG 7**"
      ],
      "metadata": {
        "id": "ZMTA7iPdJ-qu"
      }
    },
    {
      "cell_type": "markdown",
      "source": [
        "Bai 1"
      ],
      "metadata": {
        "id": "-hz24Si9KN4I"
      }
    },
    {
      "cell_type": "code",
      "source": [
        "from sympy import Symbol, Integral, Derivative, sqrt, ln\n",
        "x = Symbol('x')\n",
        "f = (x**2)/8 - ln(x)\n",
        "d1 = Derivative(f,x).doit()\n",
        "d1"
      ],
      "metadata": {
        "id": "kJAJo4bVKUL1",
        "outputId": "73350a53-aad5-457b-c42a-9dbcee9b2069",
        "colab": {
          "base_uri": "https://localhost:8080/",
          "height": 51
        }
      },
      "execution_count": 18,
      "outputs": [
        {
          "output_type": "execute_result",
          "data": {
            "text/plain": [
              "x/4 - 1/x"
            ],
            "text/latex": "$\\displaystyle \\frac{x}{4} - \\frac{1}{x}$"
          },
          "metadata": {},
          "execution_count": 18
        }
      ]
    },
    {
      "cell_type": "code",
      "source": [
        "d2 = sqrt(1+d1**2)\n",
        "d3 = Integral(d2, (x, 1, 2))\n",
        "d3.doit()"
      ],
      "metadata": {
        "id": "4wawwrgCKXeh",
        "outputId": "b69698cb-a4a3-4a25-e086-1f4c0e257128",
        "colab": {
          "base_uri": "https://localhost:8080/",
          "height": 79
        }
      },
      "execution_count": 19,
      "outputs": [
        {
          "output_type": "execute_result",
          "data": {
            "text/plain": [
              "Integral(x, (x, 1, 2))/4 + Integral(4/x, (x, 1, 2))/4"
            ],
            "text/latex": "$\\displaystyle \\frac{\\int\\limits_{1}^{2} x\\, dx}{4} + \\frac{\\int\\limits_{1}^{2} \\frac{4}{x}\\, dx}{4}$"
          },
          "metadata": {},
          "execution_count": 19
        }
      ]
    },
    {
      "cell_type": "code",
      "source": [
        "from sympy import Symbol, Integral, Derivative, sqrt\n",
        "x = Symbol('x')\n",
        "a = Symbol('a')\n",
        "f = (1/3) * (((x**2) +2)**3/2)\n",
        "d1 = Derivative(f,x).doit()\n",
        "d1"
      ],
      "metadata": {
        "id": "jDwdttzuKapr",
        "outputId": "3c4bfabc-d4dc-4b6a-8e7a-a2fc91018813",
        "colab": {
          "base_uri": "https://localhost:8080/",
          "height": 42
        }
      },
      "execution_count": 20,
      "outputs": [
        {
          "output_type": "execute_result",
          "data": {
            "text/plain": [
              "1.0*x*(x**2 + 2)**2"
            ],
            "text/latex": "$\\displaystyle 1.0 x \\left(x^{2} + 2\\right)^{2}$"
          },
          "metadata": {},
          "execution_count": 20
        }
      ]
    },
    {
      "cell_type": "code",
      "source": [
        "d2 = sqrt(1+d1**2)\n",
        "d3 = Integral(d2, (x, 0, a))\n",
        "d3.doit()"
      ],
      "metadata": {
        "id": "IvNlRrxqKctM",
        "outputId": "ce4e5ada-d173-46b9-9b2b-3a1705002fd0",
        "colab": {
          "base_uri": "https://localhost:8080/",
          "height": 77
        }
      },
      "execution_count": 21,
      "outputs": [
        {
          "output_type": "execute_result",
          "data": {
            "text/plain": [
              "4.12310562561766*Integral(1.37198868114007*sqrt(0.03125*x**10 + 0.25*x**8 + 0.75*x**6 + x**4 + 0.5*x**2 + 0.03125), (x, 0, a))"
            ],
            "text/latex": "$\\displaystyle 4.12310562561766 \\int\\limits_{0}^{a} 1.37198868114007 \\sqrt{0.03125 x^{10} + 0.25 x^{8} + 0.75 x^{6} + x^{4} + 0.5 x^{2} + 0.03125}\\, dx$"
          },
          "metadata": {},
          "execution_count": 21
        }
      ]
    }
  ]
}
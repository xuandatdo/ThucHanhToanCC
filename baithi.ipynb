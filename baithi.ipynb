{
  "nbformat": 4,
  "nbformat_minor": 0,
  "metadata": {
    "colab": {
      "name": "baithi",
      "provenance": [],
      "authorship_tag": "ABX9TyMf180ebLXy1jA+0AR1yzq6",
      "include_colab_link": true
    },
    "kernelspec": {
      "name": "python3",
      "display_name": "Python 3"
    },
    "language_info": {
      "name": "python"
    }
  },
  "cells": [
    {
      "cell_type": "markdown",
      "metadata": {
        "id": "view-in-github",
        "colab_type": "text"
      },
      "source": [
        "<a href=\"https://colab.research.google.com/github/xuandatdo/ThucHanhToanCC/blob/main/baithi.ipynb\" target=\"_parent\"><img src=\"https://colab.research.google.com/assets/colab-badge.svg\" alt=\"Open In Colab\"/></a>"
      ]
    },
    {
      "cell_type": "code",
      "execution_count": 2,
      "metadata": {
        "colab": {
          "base_uri": "https://localhost:8080/",
          "height": 51
        },
        "id": "AckL7VlJj6pe",
        "outputId": "f8824488-53a5-4034-c4a2-9a7c40a1b18d"
      },
      "outputs": [
        {
          "output_type": "execute_result",
          "data": {
            "text/plain": [
              "2 + x**(-2)"
            ],
            "text/latex": "$\\displaystyle 2 + \\frac{1}{x^{2}}$"
          },
          "metadata": {},
          "execution_count": 2
        }
      ],
      "source": [
        "from sympy import Symbol, Derivative\n",
        "x = Symbol('x') \n",
        "f = 2*x-1/x+2\n",
        "Derivative(f, x).doit()"
      ]
    },
    {
      "cell_type": "code",
      "source": [
        "from sympy import Symbol, Derivative\n",
        "x = Symbol('x') \n",
        "f = 2/3*x**3-5*x**2+2*x+4\n",
        "Derivative(f, x).doit()"
      ],
      "metadata": {
        "colab": {
          "base_uri": "https://localhost:8080/",
          "height": 39
        },
        "id": "NBVQ_mSso-Tg",
        "outputId": "a7bb96f4-41ee-47f4-aec5-5b796fa4a935"
      },
      "execution_count": 3,
      "outputs": [
        {
          "output_type": "execute_result",
          "data": {
            "text/plain": [
              "2.0*x**2 - 10*x + 2"
            ],
            "text/latex": "$\\displaystyle 2.0 x^{2} - 10 x + 2$"
          },
          "metadata": {},
          "execution_count": 3
        }
      ]
    }
  ]
}
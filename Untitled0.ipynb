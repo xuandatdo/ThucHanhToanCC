{
  "nbformat": 4,
  "nbformat_minor": 0,
  "metadata": {
    "colab": {
      "name": "Untitled0.ipynb",
      "provenance": [],
      "authorship_tag": "ABX9TyMCMbAehCsSaN/MWHbpi2dy",
      "include_colab_link": true
    },
    "kernelspec": {
      "name": "python3",
      "display_name": "Python 3"
    },
    "language_info": {
      "name": "python"
    }
  },
  "cells": [
    {
      "cell_type": "markdown",
      "metadata": {
        "id": "view-in-github",
        "colab_type": "text"
      },
      "source": [
        "<a href=\"https://colab.research.google.com/github/xuandatdo/ThucHanhToanCC/blob/main/Untitled0.ipynb\" target=\"_parent\"><img src=\"https://colab.research.google.com/assets/colab-badge.svg\" alt=\"Open In Colab\"/></a>"
      ]
    },
    {
      "cell_type": "markdown",
      "source": [
        "#Chương 3"
      ],
      "metadata": {
        "id": "Wo9a5WeiWKPP"
      }
    },
    {
      "cell_type": "markdown",
      "source": [
        "**TT1**"
      ],
      "metadata": {
        "id": "rZCei7wrXJ54"
      }
    },
    {
      "cell_type": "code",
      "source": [
        "def luythua(x,n):\n",
        "  ketqua= 1\n",
        "  for i in range(n):\n",
        "    ketqua=ketqua*x\n",
        "  return ketqua"
      ],
      "metadata": {
        "id": "Ns-VP9ZaWQIR"
      },
      "execution_count": 6,
      "outputs": []
    },
    {
      "cell_type": "code",
      "source": [
        "luythua(2,1)"
      ],
      "metadata": {
        "colab": {
          "base_uri": "https://localhost:8080/"
        },
        "id": "tJTGgAMXYKvM",
        "outputId": "1c9b7eda-6022-4c48-906f-8675c78e609d"
      },
      "execution_count": 7,
      "outputs": [
        {
          "output_type": "execute_result",
          "data": {
            "text/plain": [
              "2"
            ]
          },
          "metadata": {},
          "execution_count": 7
        }
      ]
    },
    {
      "cell_type": "code",
      "source": [
        "luythua(2,0)"
      ],
      "metadata": {
        "colab": {
          "base_uri": "https://localhost:8080/"
        },
        "id": "VWjj-l-1W3-i",
        "outputId": "1aeeb2cf-8832-4ad0-ca17-e2348f947588"
      },
      "execution_count": 3,
      "outputs": [
        {
          "output_type": "execute_result",
          "data": {
            "text/plain": [
              "1"
            ]
          },
          "metadata": {},
          "execution_count": 3
        }
      ]
    },
    {
      "cell_type": "markdown",
      "source": [
        "**TT2**"
      ],
      "metadata": {
        "id": "bksyLvoDXOZ3"
      }
    },
    {
      "cell_type": "code",
      "source": [
        "while1=2"
      ],
      "metadata": {
        "id": "uXw4j4rHXI5n"
      },
      "execution_count": 4,
      "outputs": []
    },
    {
      "cell_type": "code",
      "source": [
        "10*(1/0)"
      ],
      "metadata": {
        "colab": {
          "base_uri": "https://localhost:8080/",
          "height": 165
        },
        "id": "yL8dFvhDXcLA",
        "outputId": "df0dadfa-aee1-4b95-a9af-5ae0f26a590d"
      },
      "execution_count": 5,
      "outputs": [
        {
          "output_type": "error",
          "ename": "ZeroDivisionError",
          "evalue": "ignored",
          "traceback": [
            "\u001b[0;31m---------------------------------------------------------------------------\u001b[0m",
            "\u001b[0;31mZeroDivisionError\u001b[0m                         Traceback (most recent call last)",
            "\u001b[0;32m<ipython-input-5-fbc7e86ae71a>\u001b[0m in \u001b[0;36m<module>\u001b[0;34m()\u001b[0m\n\u001b[0;32m----> 1\u001b[0;31m \u001b[0;36m10\u001b[0m\u001b[0;34m*\u001b[0m\u001b[0;34m(\u001b[0m\u001b[0;36m1\u001b[0m\u001b[0;34m/\u001b[0m\u001b[0;36m0\u001b[0m\u001b[0;34m)\u001b[0m\u001b[0;34m\u001b[0m\u001b[0;34m\u001b[0m\u001b[0m\n\u001b[0m",
            "\u001b[0;31mZeroDivisionError\u001b[0m: division by zero"
          ]
        }
      ]
    },
    {
      "cell_type": "code",
      "source": [
        "3 * bien_chua_khai_bao / 4"
      ],
      "metadata": {
        "colab": {
          "base_uri": "https://localhost:8080/",
          "height": 165
        },
        "id": "5JI6ZazNYXqm",
        "outputId": "dc9f8001-7bc5-4996-a31c-582893f33c0d"
      },
      "execution_count": 8,
      "outputs": [
        {
          "output_type": "error",
          "ename": "NameError",
          "evalue": "ignored",
          "traceback": [
            "\u001b[0;31m---------------------------------------------------------------------------\u001b[0m",
            "\u001b[0;31mNameError\u001b[0m                                 Traceback (most recent call last)",
            "\u001b[0;32m<ipython-input-8-a849e0ab995e>\u001b[0m in \u001b[0;36m<module>\u001b[0;34m()\u001b[0m\n\u001b[0;32m----> 1\u001b[0;31m \u001b[0;36m3\u001b[0m \u001b[0;34m*\u001b[0m \u001b[0mbien_chua_khai_bao\u001b[0m \u001b[0;34m/\u001b[0m \u001b[0;36m4\u001b[0m\u001b[0;34m\u001b[0m\u001b[0;34m\u001b[0m\u001b[0m\n\u001b[0m",
            "\u001b[0;31mNameError\u001b[0m: name 'bien_chua_khai_bao' is not defined"
          ]
        }
      ]
    },
    {
      "cell_type": "code",
      "source": [
        "ba’ + 7 "
      ],
      "metadata": {
        "colab": {
          "base_uri": "https://localhost:8080/",
          "height": 130
        },
        "id": "2VTS25PyYeOG",
        "outputId": "207b96ce-8ee3-499b-b4e6-4763cea3e21d"
      },
      "execution_count": 9,
      "outputs": [
        {
          "output_type": "error",
          "ename": "SyntaxError",
          "evalue": "ignored",
          "traceback": [
            "\u001b[0;36m  File \u001b[0;32m\"<ipython-input-9-37a4f5ad5b3b>\"\u001b[0;36m, line \u001b[0;32m1\u001b[0m\n\u001b[0;31m    ba’ + 7\u001b[0m\n\u001b[0m      ^\u001b[0m\n\u001b[0;31mSyntaxError\u001b[0m\u001b[0;31m:\u001b[0m invalid character in identifier\n"
          ]
        }
      ]
    },
    {
      "cell_type": "code",
      "source": [
        " 'ba' + (1/0) "
      ],
      "metadata": {
        "colab": {
          "base_uri": "https://localhost:8080/",
          "height": 165
        },
        "id": "oV55bd7aYjNA",
        "outputId": "eabaf89e-8502-4292-dfb9-575347d97139"
      },
      "execution_count": 10,
      "outputs": [
        {
          "output_type": "error",
          "ename": "ZeroDivisionError",
          "evalue": "ignored",
          "traceback": [
            "\u001b[0;31m---------------------------------------------------------------------------\u001b[0m",
            "\u001b[0;31mZeroDivisionError\u001b[0m                         Traceback (most recent call last)",
            "\u001b[0;32m<ipython-input-10-9e51bb6188a2>\u001b[0m in \u001b[0;36m<module>\u001b[0;34m()\u001b[0m\n\u001b[0;32m----> 1\u001b[0;31m \u001b[0;34m'ba'\u001b[0m \u001b[0;34m+\u001b[0m \u001b[0;34m(\u001b[0m\u001b[0;36m1\u001b[0m\u001b[0;34m/\u001b[0m\u001b[0;36m0\u001b[0m\u001b[0;34m)\u001b[0m\u001b[0;34m\u001b[0m\u001b[0;34m\u001b[0m\u001b[0m\n\u001b[0m",
            "\u001b[0;31mZeroDivisionError\u001b[0m: division by zero"
          ]
        }
      ]
    },
    {
      "cell_type": "code",
      "source": [
        "ba'+7+(1/0)"
      ],
      "metadata": {
        "colab": {
          "base_uri": "https://localhost:8080/",
          "height": 130
        },
        "id": "BtHUqj1vYlUh",
        "outputId": "757c3db1-6ddd-462b-a245-7a447af220fd"
      },
      "execution_count": 11,
      "outputs": [
        {
          "output_type": "error",
          "ename": "SyntaxError",
          "evalue": "ignored",
          "traceback": [
            "\u001b[0;36m  File \u001b[0;32m\"<ipython-input-11-fb8a030026a0>\"\u001b[0;36m, line \u001b[0;32m1\u001b[0m\n\u001b[0;31m    ba'+7+(1/0)\u001b[0m\n\u001b[0m               ^\u001b[0m\n\u001b[0;31mSyntaxError\u001b[0m\u001b[0;31m:\u001b[0m EOL while scanning string literal\n"
          ]
        }
      ]
    },
    {
      "cell_type": "markdown",
      "source": [
        "**TT3**"
      ],
      "metadata": {
        "id": "_bsGQbumYm8v"
      }
    },
    {
      "cell_type": "code",
      "source": [
        "x = int(input('vui long nhap so: ')) "
      ],
      "metadata": {
        "colab": {
          "base_uri": "https://localhost:8080/",
          "height": 182
        },
        "id": "2ybXMpRuYpM3",
        "outputId": "d07f9393-c6d0-40b7-92c7-b992cc252cb8"
      },
      "execution_count": 26,
      "outputs": [
        {
          "name": "stdout",
          "output_type": "stream",
          "text": [
            "vui long nhap so: a\n"
          ]
        },
        {
          "output_type": "error",
          "ename": "ValueError",
          "evalue": "ignored",
          "traceback": [
            "\u001b[0;31m---------------------------------------------------------------------------\u001b[0m",
            "\u001b[0;31mValueError\u001b[0m                                Traceback (most recent call last)",
            "\u001b[0;32m<ipython-input-26-369b560aac64>\u001b[0m in \u001b[0;36m<module>\u001b[0;34m()\u001b[0m\n\u001b[0;32m----> 1\u001b[0;31m \u001b[0mx\u001b[0m \u001b[0;34m=\u001b[0m \u001b[0mint\u001b[0m\u001b[0;34m(\u001b[0m\u001b[0minput\u001b[0m\u001b[0;34m(\u001b[0m\u001b[0;34m'vui long nhap so: '\u001b[0m\u001b[0;34m)\u001b[0m\u001b[0;34m)\u001b[0m\u001b[0;34m\u001b[0m\u001b[0;34m\u001b[0m\u001b[0m\n\u001b[0m",
            "\u001b[0;31mValueError\u001b[0m: invalid literal for int() with base 10: 'a'"
          ]
        }
      ]
    },
    {
      "cell_type": "code",
      "source": [
        "while True:\n",
        "  try:\n",
        "    x = int(input('vui long nhap so: ')) \n",
        "    break\n",
        "  except:\n",
        "    print ('vui long nhap so. khong nhap chu!')\n"
      ],
      "metadata": {
        "colab": {
          "base_uri": "https://localhost:8080/"
        },
        "id": "Ui4BtUysZIYn",
        "outputId": "a022de43-f1cf-4287-c631-81b71f579d45"
      },
      "execution_count": 30,
      "outputs": [
        {
          "name": "stdout",
          "output_type": "stream",
          "text": [
            "vui long nhap so: a\n",
            "vui long nhap so. khong nhap chu!\n",
            "vui long nhap so: 10\n"
          ]
        }
      ]
    },
    {
      "cell_type": "markdown",
      "source": [
        "**TT4**"
      ],
      "metadata": {
        "id": "efarMn5_bYne"
      }
    },
    {
      "cell_type": "code",
      "source": [
        "while True:\n",
        "  try:\n",
        "    x = int(input('vui lòng nhập số: '))\n",
        "  except:\n",
        "    print('số vừa nhập là sai')\n",
        "  else:\n",
        "    print(f'số vừa nhập là {str(x)}')\n",
        "    break\n",
        "  finally:\n",
        "    print('đã hoàn thành chương trình')"
      ],
      "metadata": {
        "colab": {
          "base_uri": "https://localhost:8080/"
        },
        "id": "yIVupc8bbaUm",
        "outputId": "3fa6ddb9-f148-4a7b-d0f1-fc3608850733"
      },
      "execution_count": 32,
      "outputs": [
        {
          "output_type": "stream",
          "name": "stdout",
          "text": [
            "vui lòng nhập số: a\n",
            "số vừa nhập là sai\n",
            "đã hoàn thành chương trình\n",
            "vui lòng nhập số: 10\n",
            "số vừa nhập là 10\n",
            "đã hoàn thành chương trình\n"
          ]
        }
      ]
    },
    {
      "cell_type": "markdown",
      "source": [
        "**TT5**"
      ],
      "metadata": {
        "id": "ht4bKaKehzx7"
      }
    },
    {
      "cell_type": "code",
      "source": [
        "def frange(batdau,ketthuc,buocnhay):\n",
        "  day_ketqua=[]\n",
        "  while batdau<ketthuc:\n",
        "    day_ketqua.append(batdau)\n",
        "    batdau=batdau+buocnhay\n",
        "  return day_ketqua"
      ],
      "metadata": {
        "id": "hzL7TL27iTdl"
      },
      "execution_count": 33,
      "outputs": []
    },
    {
      "cell_type": "code",
      "source": [
        "tu0den2=frange(0,2,0.2)\n",
        "tu0den2"
      ],
      "metadata": {
        "colab": {
          "base_uri": "https://localhost:8080/"
        },
        "id": "kqtsYxBKizBo",
        "outputId": "0c5689b1-cb4e-424d-af95-8b321eb05c08"
      },
      "execution_count": 34,
      "outputs": [
        {
          "output_type": "execute_result",
          "data": {
            "text/plain": [
              "[0,\n",
              " 0.2,\n",
              " 0.4,\n",
              " 0.6000000000000001,\n",
              " 0.8,\n",
              " 1.0,\n",
              " 1.2,\n",
              " 1.4,\n",
              " 1.5999999999999999,\n",
              " 1.7999999999999998,\n",
              " 1.9999999999999998]"
            ]
          },
          "metadata": {},
          "execution_count": 34
        }
      ]
    },
    {
      "cell_type": "markdown",
      "source": [
        "**TT6**"
      ],
      "metadata": {
        "id": "ej0cktnsi_iO"
      }
    },
    {
      "cell_type": "code",
      "source": [
        "from matplotlib import pyplot as pyplot\n",
        "import math"
      ],
      "metadata": {
        "id": "m_rWVfkojBTS"
      },
      "execution_count": 35,
      "outputs": []
    },
    {
      "cell_type": "code",
      "source": [
        "def draw_graph(x, y):\n",
        "  plt.plot(x, y)     \n",
        "  plt.xlabel('Truc X')     \n",
        "  plt.ylabel('Truc Y')    \n",
        "  plt.title('Do thi bai toan nem qua bong') "
      ],
      "metadata": {
        "id": "XuEPeDkRjOY0"
      },
      "execution_count": 36,
      "outputs": []
    },
    {
      "cell_type": "code",
      "source": [
        "def frange(start,final,interval):\n",
        "  number=[]\n",
        "  while start<final:\n",
        "    numbers,append(start)\n",
        "    start=start+interval\n",
        "  return numbers"
      ],
      "metadata": {
        "id": "OwPHzHTvjful"
      },
      "execution_count": 37,
      "outputs": []
    },
    {
      "cell_type": "code",
      "source": [
        "def draw_trajectory(u,theta):\n",
        "  #Gia toc trong truong\n",
        "  g=9.8\n",
        "  #Goc bay:\n",
        "  theta=math.radians(theta)\n",
        "  #Thoi gian bay:\n",
        "  t_flight=2*u*math.sin(theta)/g\n",
        "  #Tinh toan hoang cach thoi gian\n",
        "  intervals = frange(0,t_flight,0.001)\n",
        "  #Danh sach toa do x va y\n",
        "  x=[]\n",
        "  y=[]\n",
        "  for t in intervals:\n",
        "    x.append(u*math.cos(theta)*t)\n",
        "    y.append(u*math.sin(theta)*t-0.5*g*t*t)\n",
        "  draw_graph(x,y)"
      ],
      "metadata": {
        "id": "hZ6SBHuDkzaz"
      },
      "execution_count": 41,
      "outputs": []
    }
  ]
}